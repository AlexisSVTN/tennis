{
 "cells": [
  {
   "cell_type": "code",
   "execution_count": 118,
   "metadata": {},
   "outputs": [],
   "source": [
    "from requests import get\n",
    "from bs4 import BeautifulSoup\n",
    "from dataclasses import dataclass\n",
    "import json\n",
    "from typing import TypedDict\n",
    "import os\n",
    "import time\n",
    "from typing import Tuple"
   ]
  },
  {
   "cell_type": "code",
   "execution_count": 119,
   "metadata": {},
   "outputs": [],
   "source": [
    "class Joueur(TypedDict):\n",
    "    rank: str\n",
    "    pays: str\n",
    "    lien_joueur: str\n",
    "    nom_joueur: str\n",
    "    pays_abreviation: str\n",
    "    age: str\n",
    "    points: str"
   ]
  },
  {
   "cell_type": "code",
   "execution_count": 120,
   "metadata": {},
   "outputs": [],
   "source": [
    "current_dir: str = os.getcwd()\n",
    "\n",
    "parent_dir: str = os.path.dirname(current_dir)\n",
    "\n",
    "file_path: str = os.path.join(parent_dir, \"donnees\", \"joueurs.json\")\n",
    "\n",
    "# Charger le JSON\n",
    "with open(file_path, \"r\") as fichier:\n",
    "    joueurs:list[dict] = json.load(fichier)\n",
    "    assert len(joueurs) == 900"
   ]
  },
  {
   "cell_type": "code",
   "execution_count": 121,
   "metadata": {},
   "outputs": [
    {
     "data": {
      "text/plain": [
       "'d:\\\\projet\\\\ml-webscrap-tennis'"
      ]
     },
     "execution_count": 121,
     "metadata": {},
     "output_type": "execute_result"
    }
   ],
   "source": [
    "parent_dir"
   ]
  },
  {
   "cell_type": "code",
   "execution_count": 122,
   "metadata": {},
   "outputs": [
    {
     "data": {
      "text/plain": [
       "{'rank': '1.',\n",
       " 'pays': 'Italy',\n",
       " 'lien_joueur': 'https://www.tennisendirect.net/atp/jannik-sinner/',\n",
       " 'nom_joueur': 'Jannik Sinner',\n",
       " 'pays_abreviation': 'ITA',\n",
       " 'age': '23 ans',\n",
       " 'points': '11330'}"
      ]
     },
     "execution_count": 122,
     "metadata": {},
     "output_type": "execute_result"
    }
   ],
   "source": [
    "joueurs[0]"
   ]
  },
  {
   "cell_type": "code",
   "execution_count": 123,
   "metadata": {},
   "outputs": [
    {
     "name": "stdout",
     "output_type": "stream",
     "text": [
      "Jannik Sinner\n"
     ]
    }
   ],
   "source": [
    "print(joueurs[0]['nom_joueur'])"
   ]
  },
  {
   "cell_type": "code",
   "execution_count": 124,
   "metadata": {},
   "outputs": [
    {
     "name": "stdout",
     "output_type": "stream",
     "text": [
      "https://www.tennisendirect.net/atp/jannik-sinner/\n"
     ]
    }
   ],
   "source": [
    "print(joueurs[0]['lien_joueur'])"
   ]
  },
  {
   "cell_type": "code",
   "execution_count": 125,
   "metadata": {},
   "outputs": [],
   "source": [
    "liens_joueurs = (joueurs[i]['lien_joueur'] for i in range(len(joueurs)))"
   ]
  },
  {
   "cell_type": "code",
   "execution_count": 126,
   "metadata": {},
   "outputs": [
    {
     "data": {
      "text/plain": [
       "<generator object <genexpr> at 0x0000017C205A4BA0>"
      ]
     },
     "execution_count": 126,
     "metadata": {},
     "output_type": "execute_result"
    }
   ],
   "source": [
    "liens_joueurs"
   ]
  },
  {
   "cell_type": "markdown",
   "metadata": {},
   "source": [
    "# Test de récupération des stats d'un joueur (Sinner)"
   ]
  },
  {
   "cell_type": "code",
   "execution_count": 127,
   "metadata": {},
   "outputs": [],
   "source": [
    "Sinner = \"https://www.tennisendirect.net/atp/jannik-sinner/\""
   ]
  },
  {
   "cell_type": "code",
   "execution_count": 128,
   "metadata": {},
   "outputs": [
    {
     "name": "stdout",
     "output_type": "stream",
     "text": [
      "https://www.tennisendirect.net/atp/jannik-sinner/ 200\n"
     ]
    }
   ],
   "source": [
    "reponse = get(Sinner)\n",
    "print(Sinner, reponse.status_code)\n",
    "assert reponse.status_code == 200"
   ]
  },
  {
   "cell_type": "code",
   "execution_count": 129,
   "metadata": {},
   "outputs": [],
   "source": [
    "detail_Sinner = BeautifulSoup(reponse.text, features=\"lxml\")"
   ]
  },
  {
   "cell_type": "code",
   "execution_count": 130,
   "metadata": {},
   "outputs": [],
   "source": [
    "profil = detail_Sinner.find_all(\"div\", attrs={\"class\": \"player_stats\"})\n",
    "assert len(profil) == 1\n",
    "statistiques = detail_Sinner.find_all(\"table\", attrs={\"class\": \"table_stats\"})\n",
    "assert len(statistiques) == 1\n",
    "*_, derniers_match = detail_Sinner.find_all(\"table\", attrs={\"class\": \"table_pmatches\"})"
   ]
  },
  {
   "cell_type": "code",
   "execution_count": 131,
   "metadata": {},
   "outputs": [
    {
     "data": {
      "text/plain": [
       "bs4.element.ResultSet"
      ]
     },
     "execution_count": 131,
     "metadata": {},
     "output_type": "execute_result"
    }
   ],
   "source": [
    "type(statistiques)"
   ]
  },
  {
   "cell_type": "code",
   "execution_count": 132,
   "metadata": {},
   "outputs": [
    {
     "name": "stdout",
     "output_type": "stream",
     "text": [
      "profil: [<div class=\"player_stats\">\n",
      "            Nom: <b><a href=\"https://www.tennisendirect.net/atp/jannik-sinner/\" title=\"Jannik Sinner\">Jannik Sinner</a></b><br/>            Pays: <b>Italy</b><br/>            Date de naissance: <b>16.08.01, 23 ans</b><br/> <a href=\"https://www.tennisendirect.net/atp/classement/\" title=\"Position dans le classement\">Classement ATP</a>: <b>1</b><br/>            TOP position dans le classement: <b>1</b> (02.12.24, 11830 points)<br/>            Points: <b>11830</b><br/>            Primes: <b>17043434 $</b><br/>            Total de matchs: <b>491</b><br/>            Victoires: <b>356</b><br/>            Taux de réussite: <b>72.51 %</b><br/>\n",
      "</div>] \n",
      " stats: [<table class=\"table_stats\">\n",
      "<tr class=\"header\"><td>année</td><td>sommaire</td><td><a href=\"?su=1\" rel=\"nofollow\" title=\"surface: dure\">dure</a></td><td><a href=\"?su=2\" rel=\"nofollow\" title=\"surface: terre battue\">terre battue</a></td><td><a href=\"?su=3\" rel=\"nofollow\" title=\"surface: salle\">salle</a></td><td><a href=\"?su=4\" rel=\"nofollow\" title=\"surface: carpet\">carpet</a></td><td><a href=\"?su=5\" rel=\"nofollow\" title=\"surface: gazon\">gazon</a></td><td><a href=\"?su=6\" rel=\"nofollow\" title=\"surface: acryl\">acryl</a></td></tr><tr class=\"pair\"><td><a href=\"?y=2024\" rel='\\\"nofollow\\\"' title=\"année: 2024\">2024</a></td><td>74/7</td><td><a href=\"?su=1&amp;y=2024\" rel=\"nofollow\" title=\"surface: dure, année: 2024, victoires: 41, défaites: 3, Taux de réussite: 93.18 %\">41/3</a></td><td><a href=\"?su=2&amp;y=2024\" rel=\"nofollow\" title=\"surface: terre battue, année: 2024, victoires: 11, défaites: 3, Taux de réussite: 78.57 %\">11/3</a></td><td><a href=\"?su=3&amp;y=2024\" rel=\"nofollow\" title=\"surface: salle, année: 2024, victoires: 13, défaites: 0, Taux de réussite: 100 %\">13/0</a></td><td><a href=\"?su=4&amp;y=2024\" rel=\"nofollow\" title=\"surface: carpet, année: 2024, victoires: 0, défaites: 0, Taux de réussite: 0 %\">0/0</a></td><td><a href=\"?su=5&amp;y=2024\" rel=\"nofollow\" title=\"surface: gazon, année: 2024, victoires: 9, défaites: 1, Taux de réussite: 90 %\">9/1</a></td><td><a href=\"?su=6&amp;y=2024\" rel=\"nofollow\" title=\"surface: acryl, année: 2024, victoires: 0, défaites: 0, Taux de réussite: 0 %\">0/0</a></td></tr><tr class=\"unpair\"><td><a href=\"?y=2023\" rel='\\\"nofollow\\\"' title=\"année: 2023\">2023</a></td><td>66/18</td><td><a href=\"?su=1&amp;y=2023\" rel=\"nofollow\" title=\"surface: dure, année: 2023, victoires: 29, défaites: 7, Taux de réussite: 80.56 %\">29/7</a></td><td><a href=\"?su=2&amp;y=2023\" rel=\"nofollow\" title=\"surface: terre battue, année: 2023, victoires: 8, défaites: 4, Taux de réussite: 66.67 %\">8/4</a></td><td><a href=\"?su=3&amp;y=2023\" rel=\"nofollow\" title=\"surface: salle, année: 2023, victoires: 21, défaites: 4, Taux de réussite: 84 %\">21/4</a></td><td><a href=\"?su=4&amp;y=2023\" rel=\"nofollow\" title=\"surface: carpet, année: 2023, victoires: 0, défaites: 0, Taux de réussite: 0 %\">0/0</a></td><td><a href=\"?su=5&amp;y=2023\" rel=\"nofollow\" title=\"surface: gazon, année: 2023, victoires: 8, défaites: 3, Taux de réussite: 72.73 %\">8/3</a></td><td><a href=\"?su=6&amp;y=2023\" rel=\"nofollow\" title=\"surface: acryl, année: 2023, victoires: 0, défaites: 0, Taux de réussite: 0 %\">0/0</a></td></tr><tr class=\"pair\"><td><a href=\"?y=2022\" rel='\\\"nofollow\\\"' title=\"année: 2022\">2022</a></td><td>47/17</td><td><a href=\"?su=1&amp;y=2022\" rel=\"nofollow\" title=\"surface: dure, année: 2022, victoires: 21, défaites: 7, Taux de réussite: 75 %\">21/7</a></td><td><a href=\"?su=2&amp;y=2022\" rel=\"nofollow\" title=\"surface: terre battue, année: 2022, victoires: 15, défaites: 4, Taux de réussite: 78.95 %\">15/4</a></td><td><a href=\"?su=3&amp;y=2022\" rel=\"nofollow\" title=\"surface: salle, année: 2022, victoires: 7, défaites: 4, Taux de réussite: 63.64 %\">7/4</a></td><td><a href=\"?su=4&amp;y=2022\" rel=\"nofollow\" title=\"surface: carpet, année: 2022, victoires: 0, défaites: 0, Taux de réussite: 0 %\">0/0</a></td><td><a href=\"?su=5&amp;y=2022\" rel=\"nofollow\" title=\"surface: gazon, année: 2022, victoires: 4, défaites: 2, Taux de réussite: 66.67 %\">4/2</a></td><td><a href=\"?su=6&amp;y=2022\" rel=\"nofollow\" title=\"surface: acryl, année: 2022, victoires: 0, défaites: 0, Taux de réussite: 0 %\">0/0</a></td></tr><tr class=\"unpair\"><td><a href=\"?y=2021\" rel='\\\"nofollow\\\"' title=\"année: 2021\">2021</a></td><td>50/24</td><td><a href=\"?su=1&amp;y=2021\" rel=\"nofollow\" title=\"surface: dure, année: 2021, victoires: 23, défaites: 10, Taux de réussite: 69.7 %\">23/10</a></td><td><a href=\"?su=2&amp;y=2021\" rel=\"nofollow\" title=\"surface: terre battue, année: 2021, victoires: 10, défaites: 6, Taux de réussite: 62.5 %\">10/6</a></td><td><a href=\"?su=3&amp;y=2021\" rel=\"nofollow\" title=\"surface: salle, année: 2021, victoires: 17, défaites: 6, Taux de réussite: 73.91 %\">17/6</a></td><td><a href=\"?su=4&amp;y=2021\" rel=\"nofollow\" title=\"surface: carpet, année: 2021, victoires: 0, défaites: 0, Taux de réussite: 0 %\">0/0</a></td><td><a href=\"?su=5&amp;y=2021\" rel=\"nofollow\" title=\"surface: gazon, année: 2021, victoires: 0, défaites: 2, Taux de réussite: 0 %\">0/2</a></td><td><a href=\"?su=6&amp;y=2021\" rel=\"nofollow\" title=\"surface: acryl, année: 2021, victoires: 0, défaites: 0, Taux de réussite: 0 %\">0/0</a></td></tr><tr class=\"pair\"><td><a href=\"?y=2020\" rel='\\\"nofollow\\\"' title=\"année: 2020\">2020</a></td><td>24/16</td><td><a href=\"?su=1&amp;y=2020\" rel=\"nofollow\" title=\"surface: dure, année: 2020, victoires: 2, défaites: 6, Taux de réussite: 25 %\">2/6</a></td><td><a href=\"?su=2&amp;y=2020\" rel=\"nofollow\" title=\"surface: terre battue, année: 2020, victoires: 10, défaites: 5, Taux de réussite: 66.67 %\">10/5</a></td><td><a href=\"?su=3&amp;y=2020\" rel=\"nofollow\" title=\"surface: salle, année: 2020, victoires: 12, défaites: 5, Taux de réussite: 70.59 %\">12/5</a></td><td><a href=\"?su=4&amp;y=2020\" rel=\"nofollow\" title=\"surface: carpet, année: 2020, victoires: 0, défaites: 0, Taux de réussite: 0 %\">0/0</a></td><td><a href=\"?su=5&amp;y=2020\" rel=\"nofollow\" title=\"surface: gazon, année: 2020, victoires: 0, défaites: 0, Taux de réussite: 0 %\">0/0</a></td><td><a href=\"?su=6&amp;y=2020\" rel=\"nofollow\" title=\"surface: acryl, année: 2020, victoires: 0, défaites: 0, Taux de réussite: 0 %\">0/0</a></td></tr><tr class=\"unpair\"><td><a href=\"?y=2019\" rel='\\\"nofollow\\\"' title=\"année: 2019\">2019</a></td><td>62/24</td><td><a href=\"?su=1&amp;y=2019\" rel=\"nofollow\" title=\"surface: dure, année: 2019, victoires: 12, défaites: 6, Taux de réussite: 66.67 %\">12/6</a></td><td><a href=\"?su=2&amp;y=2019\" rel=\"nofollow\" title=\"surface: terre battue, année: 2019, victoires: 17, défaites: 8, Taux de réussite: 68 %\">17/8</a></td><td><a href=\"?su=3&amp;y=2019\" rel=\"nofollow\" title=\"surface: salle, année: 2019, victoires: 31, défaites: 7, Taux de réussite: 81.58 %\">31/7</a></td><td><a href=\"?su=4&amp;y=2019\" rel=\"nofollow\" title=\"surface: carpet, année: 2019, victoires: 0, défaites: 0, Taux de réussite: 0 %\">0/0</a></td><td><a href=\"?su=5&amp;y=2019\" rel=\"nofollow\" title=\"surface: gazon, année: 2019, victoires: 2, défaites: 3, Taux de réussite: 40 %\">2/3</a></td><td><a href=\"?su=6&amp;y=2019\" rel=\"nofollow\" title=\"surface: acryl, année: 2019, victoires: 0, défaites: 0, Taux de réussite: 0 %\">0/0</a></td></tr><tr class=\"pair\"><td><a href=\"?y=2018\" rel='\\\"nofollow\\\"' title=\"année: 2018\">2018</a></td><td>31/23</td><td><a href=\"?su=1&amp;y=2018\" rel=\"nofollow\" title=\"surface: dure, année: 2018, victoires: 13, défaites: 9, Taux de réussite: 59.09 %\">13/9</a></td><td><a href=\"?su=2&amp;y=2018\" rel=\"nofollow\" title=\"surface: terre battue, année: 2018, victoires: 17, défaites: 12, Taux de réussite: 58.62 %\">17/12</a></td><td><a href=\"?su=3&amp;y=2018\" rel=\"nofollow\" title=\"surface: salle, année: 2018, victoires: 1, défaites: 1, Taux de réussite: 50 %\">1/1</a></td><td><a href=\"?su=4&amp;y=2018\" rel=\"nofollow\" title=\"surface: carpet, année: 2018, victoires: 0, défaites: 1, Taux de réussite: 0 %\">0/1</a></td><td><a href=\"?su=5&amp;y=2018\" rel=\"nofollow\" title=\"surface: gazon, année: 2018, victoires: 0, défaites: 0, Taux de réussite: 0 %\">0/0</a></td><td><a href=\"?su=6&amp;y=2018\" rel=\"nofollow\" title=\"surface: acryl, année: 2018, victoires: 0, défaites: 0, Taux de réussite: 0 %\">0/0</a></td></tr><tr class=\"unpair\"><td><a href=\"?y=2017\" rel='\\\"nofollow\\\"' title=\"année: 2017\">2017</a></td><td>1/2</td><td><a href=\"?su=1&amp;y=2017\" rel=\"nofollow\" title=\"surface: dure, année: 2017, victoires: 0, défaites: 0, Taux de réussite: 0 %\">0/0</a></td><td><a href=\"?su=2&amp;y=2017\" rel=\"nofollow\" title=\"surface: terre battue, année: 2017, victoires: 1, défaites: 2, Taux de réussite: 33.33 %\">1/2</a></td><td><a href=\"?su=3&amp;y=2017\" rel=\"nofollow\" title=\"surface: salle, année: 2017, victoires: 0, défaites: 0, Taux de réussite: 0 %\">0/0</a></td><td><a href=\"?su=4&amp;y=2017\" rel=\"nofollow\" title=\"surface: carpet, année: 2017, victoires: 0, défaites: 0, Taux de réussite: 0 %\">0/0</a></td><td><a href=\"?su=5&amp;y=2017\" rel=\"nofollow\" title=\"surface: gazon, année: 2017, victoires: 0, défaites: 0, Taux de réussite: 0 %\">0/0</a></td><td><a href=\"?su=6&amp;y=2017\" rel=\"nofollow\" title=\"surface: acryl, année: 2017, victoires: 0, défaites: 0, Taux de réussite: 0 %\">0/0</a></td></tr><tr class=\"pair\"><td><a href=\"?y=2016\" rel='\\\"nofollow\\\"' title=\"année: 2016\">2016</a></td><td>1/2</td><td><a href=\"?su=1&amp;y=2016\" rel=\"nofollow\" title=\"surface: dure, année: 2016, victoires: 0, défaites: 0, Taux de réussite: 0 %\">0/0</a></td><td><a href=\"?su=2&amp;y=2016\" rel=\"nofollow\" title=\"surface: terre battue, année: 2016, victoires: 1, défaites: 2, Taux de réussite: 33.33 %\">1/2</a></td><td><a href=\"?su=3&amp;y=2016\" rel=\"nofollow\" title=\"surface: salle, année: 2016, victoires: 0, défaites: 0, Taux de réussite: 0 %\">0/0</a></td><td><a href=\"?su=4&amp;y=2016\" rel=\"nofollow\" title=\"surface: carpet, année: 2016, victoires: 0, défaites: 0, Taux de réussite: 0 %\">0/0</a></td><td><a href=\"?su=5&amp;y=2016\" rel=\"nofollow\" title=\"surface: gazon, année: 2016, victoires: 0, défaites: 0, Taux de réussite: 0 %\">0/0</a></td><td><a href=\"?su=6&amp;y=2016\" rel=\"nofollow\" title=\"surface: acryl, année: 2016, victoires: 0, défaites: 0, Taux de réussite: 0 %\">0/0</a></td></tr><tr class=\"unpair\"><td><a href=\"?y=2015\" rel='\\\"nofollow\\\"' title=\"année: 2015\">2015</a></td><td>0/2</td><td><a href=\"?su=1&amp;y=2015\" rel=\"nofollow\" title=\"surface: dure, année: 2015, victoires: 0, défaites: 0, Taux de réussite: 0 %\">0/0</a></td><td><a href=\"?su=2&amp;y=2015\" rel=\"nofollow\" title=\"surface: terre battue, année: 2015, victoires: 0, défaites: 2, Taux de réussite: 0 %\">0/2</a></td><td><a href=\"?su=3&amp;y=2015\" rel=\"nofollow\" title=\"surface: salle, année: 2015, victoires: 0, défaites: 0, Taux de réussite: 0 %\">0/0</a></td><td><a href=\"?su=4&amp;y=2015\" rel=\"nofollow\" title=\"surface: carpet, année: 2015, victoires: 0, défaites: 0, Taux de réussite: 0 %\">0/0</a></td><td><a href=\"?su=5&amp;y=2015\" rel=\"nofollow\" title=\"surface: gazon, année: 2015, victoires: 0, défaites: 0, Taux de réussite: 0 %\">0/0</a></td><td><a href=\"?su=6&amp;y=2015\" rel=\"nofollow\" title=\"surface: acryl, année: 2015, victoires: 0, défaites: 0, Taux de réussite: 0 %\">0/0</a></td></tr><tr class=\"footer\"><td><b>TOTAL</b></td><td>356/135</td><td><a href=\"?su=1\" rel='\\\"nofollow\\\"' title=\"surface: dure\">141/48</a></td><td><a href=\"?su=2\" rel='\\\"nofollow\\\"' title=\"surface: terre battue\">90/48</a></td><td><a href=\"?su=3\" rel='\\\"nofollow\\\"' title=\"surface: salle\">102/27</a></td><td><a href=\"?su=4\" rel='\\\"nofollow\\\"' title=\"surface: carpet\">0/1</a></td><td><a href=\"?su=5\" rel='\\\"nofollow\\\"' title=\"surface: gazon\">23/11</a></td><td><a href=\"?su=6\" rel='\\\"nofollow\\\"' title=\"surface: acryl\">0/0</a></td></tr><tr class=\"footer1\"><td>réus. %</td><td>72.51 %</td><td>74.6 %</td><td>65.22 %</td><td>79.07 %</td><td>0 %</td><td>67.65 %</td><td>0 %</td></tr>\n",
      "</table>] \n",
      " matchs: <table class=\"table_pmatches\">\n",
      "<tr class=\"tour_head pair\"><td align=\"center\" class=\"w50\">24.11.24</td><td align=\"center\" class=\"w50\"></td><td class=\"w130\"><b>Jannik Sinner</b></td><td class=\"w130\"><a href=\"https://www.tennisendirect.net/atp/tallon-griekspoor/\" title=\"\">Tallon Griekspoor</a></td><td class=\"w130\">7-6<sup>2</sup>, 6-2  </td><td class=\"w16\"><img alt=\"victoire\" height=\"15\" src=\"https://www.tennisendirect.net/styles/images/ok.gif\" width=\"15\"/></td><td align=\"center\" class=\"w50\"><a href=\"https://www.tennisendirect.net/atp/match/jannik-sinner-VS-tallon-griekspoor/davis-cup-world-group-f-ita-ned-2024/\" title=\"détail du match\">détail du match</a></td><td class=\"w200\" rowspan=\"1\"><img alt=\"Spain\" height=\"16\" src=\"https://www.tennisendirect.net/flags/flag_spain.png\" width=\"16\"/> <a href=\"https://www.tennisendirect.net/hommes/davis-cup-world-group-f-ita-ned-2024/\" title=\"Davis Cup, World Group, F, ITA-NED 2-0 / \">Davis Cup </a></td><td class=\"w40 surf_3\" rowspan=\"1\">salle</td></tr><tr class=\"tour_head unpair\"><td align=\"center\" class=\"w50\">23.11.24</td><td align=\"center\" class=\"w50\"></td><td class=\"w130\"><b>Jannik Sinner</b></td><td class=\"w130\"><a href=\"https://www.tennisendirect.net/atp/alex-de-minaur/\" title=\"\">Alex De Minaur</a></td><td class=\"w130\">6-3, 6-4  </td><td class=\"w16\"><img alt=\"victoire\" height=\"15\" src=\"https://www.tennisendirect.net/styles/images/ok.gif\" width=\"15\"/></td><td align=\"center\" class=\"w50\"><a href=\"https://www.tennisendirect.net/atp/match/jannik-sinner-VS-alex-de-minaur/davis-cup-world-group-sf-ita-aus-2024/\" title=\"détail du match\">détail du match</a></td><td class=\"w200\" rowspan=\"1\"><img alt=\"Spain\" height=\"16\" src=\"https://www.tennisendirect.net/flags/flag_spain.png\" width=\"16\"/> <a href=\"https://www.tennisendirect.net/hommes/davis-cup-world-group-sf-ita-aus-2024/\" title=\"Davis Cup, World Group, SF, ITA-AUS 2-0 / \">Davis Cup </a></td><td class=\"w40 surf_3\" rowspan=\"1\">salle</td></tr><tr class=\"tour_head pair\"><td align=\"center\" class=\"w50\">21.11.24</td><td align=\"center\" class=\"w50\"></td><td class=\"w130\"><b>Jannik Sinner</b></td><td class=\"w130\"><a href=\"https://www.tennisendirect.net/atp/sebastian-baez/\" title=\"\">Sebastian Baez</a></td><td class=\"w130\">6-2, 6-1  </td><td class=\"w16\"><img alt=\"victoire\" height=\"15\" src=\"https://www.tennisendirect.net/styles/images/ok.gif\" width=\"15\"/></td><td align=\"center\" class=\"w50\"><a href=\"https://www.tennisendirect.net/atp/match/jannik-sinner-VS-sebastian-baez/davis-cup-world-group-qf-ita-arg-2024/\" title=\"détail du match\">détail du match</a></td><td class=\"w200\" rowspan=\"1\"><img alt=\"Spain\" height=\"16\" src=\"https://www.tennisendirect.net/flags/flag_spain.png\" width=\"16\"/> <a href=\"https://www.tennisendirect.net/hommes/davis-cup-world-group-qf-ita-arg-2024/\" title=\"Davis Cup, World Group, QF, ITA-ARG 2-1 / \">Davis Cup </a></td><td class=\"w40 surf_3\" rowspan=\"1\">salle</td></tr><tr class=\"tour_head unpair\"><td align=\"center\" class=\"w50\">17.11.24</td><td align=\"center\" class=\"w50\">Finale</td><td class=\"w130\"><b>Jannik Sinner</b></td><td class=\"w130\"><a href=\"https://www.tennisendirect.net/atp/taylor-harry-fritz/\" title=\"\">Taylor Harry Fritz</a></td><td class=\"w130\">6-4, 6-4  </td><td class=\"w16\"><img alt=\"victoire\" height=\"15\" src=\"https://www.tennisendirect.net/styles/images/ok.gif\" width=\"15\"/></td><td align=\"center\" class=\"w50\"><a href=\"https://www.tennisendirect.net/atp/match/jannik-sinner-VS-taylor-harry-fritz/nitto-atp-finals-turin-2024/\" title=\"détail du match\">détail du match</a></td><td class=\"w200\" rowspan=\"5\"><img alt=\"Italy\" height=\"16\" src=\"https://www.tennisendirect.net/flags/flag_italy.png\" width=\"16\"/> <a href=\"https://www.tennisendirect.net/hommes/nitto-atp-finals-turin-2024/\" title=\"Nitto ATP Finals - Turin / \">Turin </a></td><td class=\"w40 surf_3\" rowspan=\"5\">salle</td></tr><tr class=\"pair\"><td align=\"center\" class=\"w50\">16.11.24</td><td align=\"center\" class=\"w50\">Demi-finale</td><td class=\"w130\"><b>Jannik Sinner</b></td><td class=\"w130\"><a href=\"https://www.tennisendirect.net/atp/casper-ruud/\" title=\"\">Casper Ruud</a></td><td class=\"w130\">6-1, 6-2  </td><td class=\"w16\"><img alt=\"victoire\" height=\"15\" src=\"https://www.tennisendirect.net/styles/images/ok.gif\" width=\"15\"/></td><td align=\"center\" class=\"w50\"><a href=\"https://www.tennisendirect.net/atp/match/jannik-sinner-VS-casper-ruud/nitto-atp-finals-turin-2024/\" title=\"détail du match\">détail du match</a></td></tr><tr class=\"unpair\"><td align=\"center\" class=\"w50\">14.11.24</td><td align=\"center\" class=\"w50\"></td><td class=\"w130\"><b>Jannik Sinner</b></td><td class=\"w130\"><a href=\"https://www.tennisendirect.net/atp/daniil-medvedev/\" title=\"\">Daniil Medvedev</a></td><td class=\"w130\">6-3, 6-4  </td><td class=\"w16\"><img alt=\"victoire\" height=\"15\" src=\"https://www.tennisendirect.net/styles/images/ok.gif\" width=\"15\"/></td><td align=\"center\" class=\"w50\"><a href=\"https://www.tennisendirect.net/atp/match/jannik-sinner-VS-daniil-medvedev/nitto-atp-finals-turin-2024/\" title=\"détail du match\">détail du match</a></td></tr><tr class=\"pair\"><td align=\"center\" class=\"w50\">12.11.24</td><td align=\"center\" class=\"w50\"></td><td class=\"w130\"><b>Jannik Sinner</b></td><td class=\"w130\"><a href=\"https://www.tennisendirect.net/atp/taylor-harry-fritz/\" title=\"\">Taylor Harry Fritz</a></td><td class=\"w130\">6-4, 6-4  </td><td class=\"w16\"><img alt=\"victoire\" height=\"15\" src=\"https://www.tennisendirect.net/styles/images/ok.gif\" width=\"15\"/></td><td align=\"center\" class=\"w50\"><a href=\"https://www.tennisendirect.net/atp/match/jannik-sinner-VS-taylor-harry-fritz/nitto-atp-finals-turin-2024/\" title=\"détail du match\">détail du match</a></td></tr><tr class=\"unpair\"><td align=\"center\" class=\"w50\">10.11.24</td><td align=\"center\" class=\"w50\"></td><td class=\"w130\"><b>Jannik Sinner</b></td><td class=\"w130\"><a href=\"https://www.tennisendirect.net/atp/alex-de-minaur/\" title=\"\">Alex De Minaur</a></td><td class=\"w130\">6-3, 6-4  </td><td class=\"w16\"><img alt=\"victoire\" height=\"15\" src=\"https://www.tennisendirect.net/styles/images/ok.gif\" width=\"15\"/></td><td align=\"center\" class=\"w50\"><a href=\"https://www.tennisendirect.net/atp/match/jannik-sinner-VS-alex-de-minaur/nitto-atp-finals-turin-2024/\" title=\"détail du match\">détail du match</a></td></tr><tr class=\"tour_head pair\"><td align=\"center\" class=\"w50\">13.10.24</td><td align=\"center\" class=\"w50\">Finale</td><td class=\"w130\"><b>Jannik Sinner</b></td><td class=\"w130\"><a href=\"https://www.tennisendirect.net/atp/novak-djokovic/\" title=\"\">Novak Djokovic</a></td><td class=\"w130\">7-6<sup>4</sup>, 6-3  </td><td class=\"w16\"><img alt=\"victoire\" height=\"15\" src=\"https://www.tennisendirect.net/styles/images/ok.gif\" width=\"15\"/></td><td align=\"center\" class=\"w50\"><a href=\"https://www.tennisendirect.net/atp/match/jannik-sinner-VS-novak-djokovic/shanghai-rolex-masters-shanghai-2024/\" title=\"détail du match\">détail du match</a></td><td class=\"w200\" rowspan=\"6\"><img alt=\"China\" height=\"16\" src=\"https://www.tennisendirect.net/flags/flag_china.png\" width=\"16\"/> <a href=\"https://www.tennisendirect.net/hommes/shanghai-rolex-masters-shanghai-2024/\" title=\"Shanghai Rolex Masters - Shanghai / $10.2M\">Shanghai </a></td><td class=\"w40 surf_1\" rowspan=\"6\">dure</td></tr><tr class=\"unpair\"><td align=\"center\" class=\"w50\">12.10.24</td><td align=\"center\" class=\"w50\">Demi-finale</td><td class=\"w130\"><b>Jannik Sinner</b></td><td class=\"w130\"><a href=\"https://www.tennisendirect.net/atp/tomas-machac/\" title=\"\">Tomas Machac</a></td><td class=\"w130\">6-4, 7-5  </td><td class=\"w16\"><img alt=\"victoire\" height=\"15\" src=\"https://www.tennisendirect.net/styles/images/ok.gif\" width=\"15\"/></td><td align=\"center\" class=\"w50\"><a href=\"https://www.tennisendirect.net/atp/match/jannik-sinner-VS-tomas-machac/shanghai-rolex-masters-shanghai-2024/\" title=\"détail du match\">détail du match</a></td></tr><tr class=\"pair\"><td align=\"center\" class=\"w50\">10.10.24</td><td align=\"center\" class=\"w50\">Quart de finale</td><td class=\"w130\"><b>Jannik Sinner</b></td><td class=\"w130\"><a href=\"https://www.tennisendirect.net/atp/daniil-medvedev/\" title=\"\">Daniil Medvedev</a></td><td class=\"w130\">6-1, 6-4  </td><td class=\"w16\"><img alt=\"victoire\" height=\"15\" src=\"https://www.tennisendirect.net/styles/images/ok.gif\" width=\"15\"/></td><td align=\"center\" class=\"w50\"><a href=\"https://www.tennisendirect.net/atp/match/jannik-sinner-VS-daniil-medvedev/shanghai-rolex-masters-shanghai-2024/\" title=\"détail du match\">détail du match</a></td></tr><tr class=\"unpair\"><td align=\"center\" class=\"w50\">09.10.24</td><td align=\"center\" class=\"w50\">4e tour</td><td class=\"w130\"><b>Jannik Sinner</b></td><td class=\"w130\"><a href=\"https://www.tennisendirect.net/atp/ben-shelton/\" title=\"\">Ben Shelton</a></td><td class=\"w130\">6-4, 7-6<sup>1</sup> </td><td class=\"w16\"><img alt=\"victoire\" height=\"15\" src=\"https://www.tennisendirect.net/styles/images/ok.gif\" width=\"15\"/></td><td align=\"center\" class=\"w50\"><a href=\"https://www.tennisendirect.net/atp/match/jannik-sinner-VS-ben-shelton/shanghai-rolex-masters-shanghai-2024/\" title=\"détail du match\">détail du match</a></td></tr><tr class=\"pair\"><td align=\"center\" class=\"w50\">06.10.24</td><td align=\"center\" class=\"w50\">3e tour</td><td class=\"w130\"><b>Jannik Sinner</b></td><td class=\"w130\"><a href=\"https://www.tennisendirect.net/atp/tomas-martin-etcheverry/\" title=\"\">Tomas Martin Etcheverry</a></td><td class=\"w130\">6-7<sup>3</sup>, 6-4, 6-2  </td><td class=\"w16\"><img alt=\"victoire\" height=\"15\" src=\"https://www.tennisendirect.net/styles/images/ok.gif\" width=\"15\"/></td><td align=\"center\" class=\"w50\"><a href=\"https://www.tennisendirect.net/atp/match/jannik-sinner-VS-tomas-martin-etcheverry/shanghai-rolex-masters-shanghai-2024/\" title=\"détail du match\">détail du match</a></td></tr><tr class=\"unpair\"><td align=\"center\" class=\"w50\">05.10.24</td><td align=\"center\" class=\"w50\">2e tour</td><td class=\"w130\"><b>Jannik Sinner</b></td><td class=\"w130\"><a href=\"https://www.tennisendirect.net/atp/taro-taro/\" title=\"\">Taro Daniel</a></td><td class=\"w130\">6-1, 6-4  </td><td class=\"w16\"><img alt=\"victoire\" height=\"15\" src=\"https://www.tennisendirect.net/styles/images/ok.gif\" width=\"15\"/></td><td align=\"center\" class=\"w50\"><a href=\"https://www.tennisendirect.net/atp/match/jannik-sinner-VS-taro-taro/shanghai-rolex-masters-shanghai-2024/\" title=\"détail du match\">détail du match</a></td></tr><tr class=\"tour_head pair\"><td align=\"center\" class=\"w50\">02.10.24</td><td align=\"center\" class=\"w50\">Finale</td><td class=\"w130\"><a href=\"https://www.tennisendirect.net/atp/carlos-alcaraz-garfia/\" title=\"\">Carlos Alcaraz</a></td><td class=\"w130\"><b>Jannik Sinner</b></td><td class=\"w130\">6-7<sup>6</sup>, 6-4, 7-6<sup>3</sup> </td><td class=\"w16\"><img alt=\"défaite\" height=\"15\" src=\"https://www.tennisendirect.net/styles/images/ko.gif\" width=\"15\"/></td><td align=\"center\" class=\"w50\"><a href=\"https://www.tennisendirect.net/atp/match/carlos-alcaraz-garfia-VS-jannik-sinner/china-open-beijing-2024/\" title=\"détail du match\">détail du match</a></td><td class=\"w200\" rowspan=\"5\"><img alt=\"China\" height=\"16\" src=\"https://www.tennisendirect.net/flags/flag_china.png\" width=\"16\"/> <a href=\"https://www.tennisendirect.net/hommes/china-open-beijing-2024/\" title=\"China Open - Beijing / $3.891M\">Beijing </a></td><td class=\"w40 surf_1\" rowspan=\"5\">dure</td></tr><tr class=\"unpair\"><td align=\"center\" class=\"w50\">01.10.24</td><td align=\"center\" class=\"w50\">Demi-finale</td><td class=\"w130\"><b>Jannik Sinner</b></td><td class=\"w130\"><a href=\"https://www.tennisendirect.net/atp/bu-yunchaokete/\" title=\"\">Bu Yunchaokete</a></td><td class=\"w130\">6-3, 7-6<sup>3</sup> </td><td class=\"w16\"><img alt=\"victoire\" height=\"15\" src=\"https://www.tennisendirect.net/styles/images/ok.gif\" width=\"15\"/></td><td align=\"center\" class=\"w50\"><a href=\"https://www.tennisendirect.net/atp/match/jannik-sinner-VS-bu-yunchaokete/china-open-beijing-2024/\" title=\"détail du match\">détail du match</a></td></tr><tr class=\"pair\"><td align=\"center\" class=\"w50\">30.09.24</td><td align=\"center\" class=\"w50\">Quart de finale</td><td class=\"w130\"><b>Jannik Sinner</b></td><td class=\"w130\"><a href=\"https://www.tennisendirect.net/atp/jiri-lehecka/\" title=\"\">Jiri Lehecka</a></td><td class=\"w130\">6-2, 7-6<sup>6</sup> </td><td class=\"w16\"><img alt=\"victoire\" height=\"15\" src=\"https://www.tennisendirect.net/styles/images/ok.gif\" width=\"15\"/></td><td align=\"center\" class=\"w50\"><a href=\"https://www.tennisendirect.net/atp/match/jannik-sinner-VS-jiri-lehecka/china-open-beijing-2024/\" title=\"détail du match\">détail du match</a></td></tr><tr class=\"unpair\"><td align=\"center\" class=\"w50\">28.09.24</td><td align=\"center\" class=\"w50\">2e tour</td><td class=\"w130\"><b>Jannik Sinner</b></td><td class=\"w130\"><a href=\"https://www.tennisendirect.net/atp/roman-safiullin/\" title=\"\">Roman Safiullin</a></td><td class=\"w130\">3-6, 6-2, 6-3  </td><td class=\"w16\"><img alt=\"victoire\" height=\"15\" src=\"https://www.tennisendirect.net/styles/images/ok.gif\" width=\"15\"/></td><td align=\"center\" class=\"w50\"><a href=\"https://www.tennisendirect.net/atp/match/jannik-sinner-VS-roman-safiullin/china-open-beijing-2024/\" title=\"détail du match\">détail du match</a></td></tr><tr class=\"pair\"><td align=\"center\" class=\"w50\">26.09.24</td><td align=\"center\" class=\"w50\">1er tour</td><td class=\"w130\"><b>Jannik Sinner</b></td><td class=\"w130\"><a href=\"https://www.tennisendirect.net/atp/nicolas-jarry/\" title=\"\">Nicolas Jarry</a></td><td class=\"w130\">4-6, 6-3, 6-1  </td><td class=\"w16\"><img alt=\"victoire\" height=\"15\" src=\"https://www.tennisendirect.net/styles/images/ok.gif\" width=\"15\"/></td><td align=\"center\" class=\"w50\"><a href=\"https://www.tennisendirect.net/atp/match/jannik-sinner-VS-nicolas-jarry/china-open-beijing-2024/\" title=\"détail du match\">détail du match</a></td></tr><tr class=\"tour_head unpair\"><td align=\"center\" class=\"w50\">08.09.24</td><td align=\"center\" class=\"w50\">Finale</td><td class=\"w130\"><b>Jannik Sinner</b></td><td class=\"w130\"><a href=\"https://www.tennisendirect.net/atp/taylor-harry-fritz/\" title=\"\">Taylor Harry Fritz</a></td><td class=\"w130\">6-3, 6-4, 7-5  </td><td class=\"w16\"><img alt=\"victoire\" height=\"15\" src=\"https://www.tennisendirect.net/styles/images/ok.gif\" width=\"15\"/></td><td align=\"center\" class=\"w50\"><a href=\"https://www.tennisendirect.net/atp/match/jannik-sinner-VS-taylor-harry-fritz/us-open-new-york-2024/\" title=\"détail du match\">détail du match</a></td><td class=\"w200\" rowspan=\"7\"><img alt=\"USA\" height=\"16\" src=\"https://www.tennisendirect.net/flags/flag_usa.png\" width=\"16\"/> <a href=\"https://www.tennisendirect.net/hommes/us-open-new-york-2024/\" title=\"U.S. Open - New York / $33.9M\">New York </a></td><td class=\"w40 surf_1\" rowspan=\"7\">dure</td></tr><tr class=\"pair\"><td align=\"center\" class=\"w50\">06.09.24</td><td align=\"center\" class=\"w50\">Demi-finale</td><td class=\"w130\"><b>Jannik Sinner</b></td><td class=\"w130\"><a href=\"https://www.tennisendirect.net/atp/jack-draper/\" title=\"\">Jack Draper</a></td><td class=\"w130\">7-5, 7-6<sup>3</sup>, 6-2  </td><td class=\"w16\"><img alt=\"victoire\" height=\"15\" src=\"https://www.tennisendirect.net/styles/images/ok.gif\" width=\"15\"/></td><td align=\"center\" class=\"w50\"><a href=\"https://www.tennisendirect.net/atp/match/jannik-sinner-VS-jack-draper/us-open-new-york-2024/\" title=\"détail du match\">détail du match</a></td></tr><tr class=\"unpair\"><td align=\"center\" class=\"w50\">04.09.24</td><td align=\"center\" class=\"w50\">Quart de finale</td><td class=\"w130\"><b>Jannik Sinner</b></td><td class=\"w130\"><a href=\"https://www.tennisendirect.net/atp/daniil-medvedev/\" title=\"\">Daniil Medvedev</a></td><td class=\"w130\">6-2, 1-6, 6-1, 6-4  </td><td class=\"w16\"><img alt=\"victoire\" height=\"15\" src=\"https://www.tennisendirect.net/styles/images/ok.gif\" width=\"15\"/></td><td align=\"center\" class=\"w50\"><a href=\"https://www.tennisendirect.net/atp/match/jannik-sinner-VS-daniil-medvedev/us-open-new-york-2024/\" title=\"détail du match\">détail du match</a></td></tr><tr class=\"pair\"><td align=\"center\" class=\"w50\">02.09.24</td><td align=\"center\" class=\"w50\">4e tour</td><td class=\"w130\"><b>Jannik Sinner</b></td><td class=\"w130\"><a href=\"https://www.tennisendirect.net/atp/tommy-paul/\" title=\"\">Tommy Paul</a></td><td class=\"w130\">7-6<sup>3</sup>, 7-6<sup>5</sup>, 6-1  </td><td class=\"w16\"><img alt=\"victoire\" height=\"15\" src=\"https://www.tennisendirect.net/styles/images/ok.gif\" width=\"15\"/></td><td align=\"center\" class=\"w50\"><a href=\"https://www.tennisendirect.net/atp/match/jannik-sinner-VS-tommy-paul/us-open-new-york-2024/\" title=\"détail du match\">détail du match</a></td></tr><tr class=\"unpair\"><td align=\"center\" class=\"w50\">31.08.24</td><td align=\"center\" class=\"w50\">3e tour</td><td class=\"w130\"><b>Jannik Sinner</b></td><td class=\"w130\"><a href=\"https://www.tennisendirect.net/atp/christopher-oconnell/\" title=\"\">Christopher O'Connell</a></td><td class=\"w130\">6-1, 6-4, 6-2  </td><td class=\"w16\"><img alt=\"victoire\" height=\"15\" src=\"https://www.tennisendirect.net/styles/images/ok.gif\" width=\"15\"/></td><td align=\"center\" class=\"w50\"><a href=\"https://www.tennisendirect.net/atp/match/jannik-sinner-VS-christopher-oconnell/us-open-new-york-2024/\" title=\"détail du match\">détail du match</a></td></tr><tr class=\"pair\"><td align=\"center\" class=\"w50\">29.08.24</td><td align=\"center\" class=\"w50\">2e tour</td><td class=\"w130\"><b>Jannik Sinner</b></td><td class=\"w130\"><a href=\"https://www.tennisendirect.net/atp/alex-michelsen/\" title=\"\">Alex Michelsen</a></td><td class=\"w130\">6-4, 6-0, 6-2  </td><td class=\"w16\"><img alt=\"victoire\" height=\"15\" src=\"https://www.tennisendirect.net/styles/images/ok.gif\" width=\"15\"/></td><td align=\"center\" class=\"w50\"><a href=\"https://www.tennisendirect.net/atp/match/jannik-sinner-VS-alex-michelsen/us-open-new-york-2024/\" title=\"détail du match\">détail du match</a></td></tr><tr class=\"unpair\"><td align=\"center\" class=\"w50\">27.08.24</td><td align=\"center\" class=\"w50\">1er tour</td><td class=\"w130\"><b>Jannik Sinner</b></td><td class=\"w130\"><a href=\"https://www.tennisendirect.net/atp/mackenzie-mcdonald/\" title=\"\">Mackenzie Mcdonald</a></td><td class=\"w130\">2-6, 6-2, 6-1, 6-2  </td><td class=\"w16\"><img alt=\"victoire\" height=\"15\" src=\"https://www.tennisendirect.net/styles/images/ok.gif\" width=\"15\"/></td><td align=\"center\" class=\"w50\"><a href=\"https://www.tennisendirect.net/atp/match/jannik-sinner-VS-mackenzie-mcdonald/us-open-new-york-2024/\" title=\"détail du match\">détail du match</a></td></tr><tr class=\"tour_head pair\"><td align=\"center\" class=\"w50\">19.08.24</td><td align=\"center\" class=\"w50\">Finale</td><td class=\"w130\"><b>Jannik Sinner</b></td><td class=\"w130\"><a href=\"https://www.tennisendirect.net/atp/francis-tiafoe/\" title=\"\">Frances Tiafoe</a></td><td class=\"w130\">7-6<sup>4</sup>, 6-2  </td><td class=\"w16\"><img alt=\"victoire\" height=\"15\" src=\"https://www.tennisendirect.net/styles/images/ok.gif\" width=\"15\"/></td><td align=\"center\" class=\"w50\"><a href=\"https://www.tennisendirect.net/atp/match/jannik-sinner-VS-francis-tiafoe/western-southern-open-cincinnati-2024/\" title=\"détail du match\">détail du match</a></td><td class=\"w200\" rowspan=\"5\"><img alt=\"USA\" height=\"16\" src=\"https://www.tennisendirect.net/flags/flag_usa.png\" width=\"16\"/> <a href=\"https://www.tennisendirect.net/hommes/western-southern-open-cincinnati-2024/\" title=\"Western &amp; Southern Open - Cincinnati / $7.9M\">Cincinnati </a></td><td class=\"w40 surf_1\" rowspan=\"5\">dure</td></tr><tr class=\"unpair\"><td align=\"center\" class=\"w50\">18.08.24</td><td align=\"center\" class=\"w50\">Demi-finale</td><td class=\"w130\"><b>Jannik Sinner</b></td><td class=\"w130\"><a href=\"https://www.tennisendirect.net/atp/alexander-zverev/\" title=\"\">Alexander Zverev</a></td><td class=\"w130\">7-6<sup>9</sup>, 5-7, 7-6<sup>4</sup> </td><td class=\"w16\"><img alt=\"victoire\" height=\"15\" src=\"https://www.tennisendirect.net/styles/images/ok.gif\" width=\"15\"/></td><td align=\"center\" class=\"w50\"><a href=\"https://www.tennisendirect.net/atp/match/jannik-sinner-VS-alexander-zverev/western-southern-open-cincinnati-2024/\" title=\"détail du match\">détail du match</a></td></tr><tr class=\"pair\"><td align=\"center\" class=\"w50\">17.08.24</td><td align=\"center\" class=\"w50\">Quart de finale</td><td class=\"w130\"><b>Jannik Sinner</b></td><td class=\"w130\"><a href=\"https://www.tennisendirect.net/atp/andrey-rublev/\" title=\"\">Andrey Rublev</a></td><td class=\"w130\">4-6, 7-5, 6-4  </td><td class=\"w16\"><img alt=\"victoire\" height=\"15\" src=\"https://www.tennisendirect.net/styles/images/ok.gif\" width=\"15\"/></td><td align=\"center\" class=\"w50\"><a href=\"https://www.tennisendirect.net/atp/match/jannik-sinner-VS-andrey-rublev/western-southern-open-cincinnati-2024/\" title=\"détail du match\">détail du match</a></td></tr><tr class=\"unpair\"><td align=\"center\" class=\"w50\">16.08.24</td><td align=\"center\" class=\"w50\">3e tour</td><td class=\"w130\"><b>Jannik Sinner</b></td><td class=\"w130\"><a href=\"https://www.tennisendirect.net/atp/jordan-thompson/\" title=\"\">Jordan Thompson</a></td><td class=\"w130\"> Jordan Thompson - il (elle/ils) n’a (ont) pas participé </td><td class=\"w16\"><img alt=\"victoire\" height=\"15\" src=\"https://www.tennisendirect.net/styles/images/ok.gif\" width=\"15\"/></td><td align=\"center\" class=\"w50\"><a href=\"https://www.tennisendirect.net/atp/match/jannik-sinner-VS-jordan-thompson/western-southern-open-cincinnati-2024/\" title=\"détail du match\">détail du match</a></td></tr><tr class=\"pair\"><td align=\"center\" class=\"w50\">14.08.24</td><td align=\"center\" class=\"w50\">2e tour</td><td class=\"w130\"><b>Jannik Sinner</b></td><td class=\"w130\"><a href=\"https://www.tennisendirect.net/atp/alex-michelsen/\" title=\"\">Alex Michelsen</a></td><td class=\"w130\">6-4, 7-5  </td><td class=\"w16\"><img alt=\"victoire\" height=\"15\" src=\"https://www.tennisendirect.net/styles/images/ok.gif\" width=\"15\"/></td><td align=\"center\" class=\"w50\"><a href=\"https://www.tennisendirect.net/atp/match/jannik-sinner-VS-alex-michelsen/western-southern-open-cincinnati-2024/\" title=\"détail du match\">détail du match</a></td></tr><tr class=\"tour_head unpair\"><td align=\"center\" class=\"w50\">10.08.24</td><td align=\"center\" class=\"w50\">3e tour</td><td class=\"w130\"><b>Jannik Sinner</b></td><td class=\"w130\"><a href=\"https://www.tennisendirect.net/atp/alejandro-tabilo/\" title=\"\">Alejandro Tabilo</a></td><td class=\"w130\">6-4, 6-3  </td><td class=\"w16\"><img alt=\"victoire\" height=\"15\" src=\"https://www.tennisendirect.net/styles/images/ok.gif\" width=\"15\"/></td><td align=\"center\" class=\"w50\"><a href=\"https://www.tennisendirect.net/atp/match/jannik-sinner-VS-alejandro-tabilo/national-bank-open-montreal-2024/\" title=\"détail du match\">détail du match</a></td><td class=\"w200\" rowspan=\"3\"><img alt=\"Canada\" height=\"16\" src=\"https://www.tennisendirect.net/flags/flag_canada.png\" width=\"16\"/> <a href=\"https://www.tennisendirect.net/hommes/national-bank-open-montreal-2024/\" title=\"National Bank Open - Montreal / $8.1M\">Montreal </a></td><td class=\"w40 surf_1\" rowspan=\"3\">dure</td></tr><tr class=\"pair\"><td align=\"center\" class=\"w50\">10.08.24</td><td align=\"center\" class=\"w50\">Quart de finale</td><td class=\"w130\"><a href=\"https://www.tennisendirect.net/atp/andrey-rublev/\" title=\"\">Andrey Rublev</a></td><td class=\"w130\"><b>Jannik Sinner</b></td><td class=\"w130\">6-3, 1-6, 6-2  </td><td class=\"w16\"><img alt=\"défaite\" height=\"15\" src=\"https://www.tennisendirect.net/styles/images/ko.gif\" width=\"15\"/></td><td align=\"center\" class=\"w50\"><a href=\"https://www.tennisendirect.net/atp/match/andrey-rublev-VS-jannik-sinner/national-bank-open-montreal-2024/\" title=\"détail du match\">détail du match</a></td></tr><tr class=\"unpair\"><td align=\"center\" class=\"w50\">08.08.24</td><td align=\"center\" class=\"w50\">2e tour</td><td class=\"w130\"><b>Jannik Sinner</b></td><td class=\"w130\"><a href=\"https://www.tennisendirect.net/atp/borna-coric/\" title=\"\">Borna Coric</a></td><td class=\"w130\">6-2, 6-4  </td><td class=\"w16\"><img alt=\"victoire\" height=\"15\" src=\"https://www.tennisendirect.net/styles/images/ok.gif\" width=\"15\"/></td><td align=\"center\" class=\"w50\"><a href=\"https://www.tennisendirect.net/atp/match/jannik-sinner-VS-borna-coric/national-bank-open-montreal-2024/\" title=\"détail du match\">détail du match</a></td></tr><tr class=\"tour_head pair\"><td align=\"center\" class=\"w50\">09.07.24</td><td align=\"center\" class=\"w50\">Quart de finale</td><td class=\"w130\"><a href=\"https://www.tennisendirect.net/atp/daniil-medvedev/\" title=\"\">Daniil Medvedev</a></td><td class=\"w130\"><b>Jannik Sinner</b></td><td class=\"w130\">6-7<sup>7</sup>, 6-4, 7-6<sup>4</sup>, 2-6, 6-3  </td><td class=\"w16\"><img alt=\"défaite\" height=\"15\" src=\"https://www.tennisendirect.net/styles/images/ko.gif\" width=\"15\"/></td><td align=\"center\" class=\"w50\"><a href=\"https://www.tennisendirect.net/atp/match/daniil-medvedev-VS-jannik-sinner/wimbledon-london-2024/\" title=\"détail du match\">détail du match</a></td><td class=\"w200\" rowspan=\"5\"><img alt=\"United Kingdom\" height=\"16\" src=\"https://www.tennisendirect.net/flags/flag_united_kingdom.png\" width=\"16\"/> <a href=\"https://www.tennisendirect.net/hommes/wimbledon-london-2024/\" title=\"Wimbledon - London / L50M\">London </a></td><td class=\"w40 surf_5\" rowspan=\"5\">gazon</td></tr><tr class=\"unpair\"><td align=\"center\" class=\"w50\">07.07.24</td><td align=\"center\" class=\"w50\">4e tour</td><td class=\"w130\"><b>Jannik Sinner</b></td><td class=\"w130\"><a href=\"https://www.tennisendirect.net/atp/ben-shelton/\" title=\"\">Ben Shelton</a></td><td class=\"w130\">6-2, 6-4, 7-6<sup>9</sup> </td><td class=\"w16\"><img alt=\"victoire\" height=\"15\" src=\"https://www.tennisendirect.net/styles/images/ok.gif\" width=\"15\"/></td><td align=\"center\" class=\"w50\"><a href=\"https://www.tennisendirect.net/atp/match/jannik-sinner-VS-ben-shelton/wimbledon-london-2024/\" title=\"détail du match\">détail du match</a></td></tr><tr class=\"pair\"><td align=\"center\" class=\"w50\">05.07.24</td><td align=\"center\" class=\"w50\">3e tour</td><td class=\"w130\"><b>Jannik Sinner</b></td><td class=\"w130\"><a href=\"https://www.tennisendirect.net/atp/miomir-kecmanovic/\" title=\"\">Miomir Kecmanovic</a></td><td class=\"w130\">6-1, 6-4, 6-2  </td><td class=\"w16\"><img alt=\"victoire\" height=\"15\" src=\"https://www.tennisendirect.net/styles/images/ok.gif\" width=\"15\"/></td><td align=\"center\" class=\"w50\"><a href=\"https://www.tennisendirect.net/atp/match/jannik-sinner-VS-miomir-kecmanovic/wimbledon-london-2024/\" title=\"détail du match\">détail du match</a></td></tr><tr class=\"unpair\"><td align=\"center\" class=\"w50\">03.07.24</td><td align=\"center\" class=\"w50\">2e tour</td><td class=\"w130\"><b>Jannik Sinner</b></td><td class=\"w130\"><a href=\"https://www.tennisendirect.net/atp/matteo-berrettini/\" title=\"\">Matteo Berrettini</a></td><td class=\"w130\">7-6<sup>3</sup>, 7-6<sup>4</sup>, 2-6, 7-6<sup>4</sup> </td><td class=\"w16\"><img alt=\"victoire\" height=\"15\" src=\"https://www.tennisendirect.net/styles/images/ok.gif\" width=\"15\"/></td><td align=\"center\" class=\"w50\"><a href=\"https://www.tennisendirect.net/atp/match/jannik-sinner-VS-matteo-berrettini/wimbledon-london-2024/\" title=\"détail du match\">détail du match</a></td></tr><tr class=\"pair\"><td align=\"center\" class=\"w50\">01.07.24</td><td align=\"center\" class=\"w50\">1er tour</td><td class=\"w130\"><b>Jannik Sinner</b></td><td class=\"w130\"><a href=\"https://www.tennisendirect.net/atp/yannick-hanfmann/\" title=\"\">Yannick Hanfmann</a></td><td class=\"w130\">6-3, 6-4, 3-6, 6-3  </td><td class=\"w16\"><img alt=\"victoire\" height=\"15\" src=\"https://www.tennisendirect.net/styles/images/ok.gif\" width=\"15\"/></td><td align=\"center\" class=\"w50\"><a href=\"https://www.tennisendirect.net/atp/match/jannik-sinner-VS-yannick-hanfmann/wimbledon-london-2024/\" title=\"détail du match\">détail du match</a></td></tr><tr class=\"tour_head unpair\"><td align=\"center\" class=\"w50\">23.06.24</td><td align=\"center\" class=\"w50\">Finale</td><td class=\"w130\"><b>Jannik Sinner</b></td><td class=\"w130\"><a href=\"https://www.tennisendirect.net/atp/hubert-hurkacz/\" title=\"\">Hubert Hurkacz</a></td><td class=\"w130\">7-6<sup>8</sup>, 7-6<sup>2</sup> </td><td class=\"w16\"><img alt=\"victoire\" height=\"15\" src=\"https://www.tennisendirect.net/styles/images/ok.gif\" width=\"15\"/></td><td align=\"center\" class=\"w50\"><a href=\"https://www.tennisendirect.net/atp/match/jannik-sinner-VS-hubert-hurkacz/terra-wortmann-open-halle-2024/\" title=\"détail du match\">détail du match</a></td><td class=\"w200\" rowspan=\"5\"><img alt=\"Germany\" height=\"16\" src=\"https://www.tennisendirect.net/flags/flag_germany.png\" width=\"16\"/> <a href=\"https://www.tennisendirect.net/hommes/terra-wortmann-open-halle-2024/\" title=\"Terra Wortmann Open - Halle / $2.411M\">Halle </a></td><td class=\"w40 surf_5\" rowspan=\"5\">gazon</td></tr><tr class=\"pair\"><td align=\"center\" class=\"w50\">22.06.24</td><td align=\"center\" class=\"w50\">Demi-finale</td><td class=\"w130\"><b>Jannik Sinner</b></td><td class=\"w130\"><a href=\"https://www.tennisendirect.net/atp/zhizhen-zhang/\" title=\"\">Zhizhen Zhang</a></td><td class=\"w130\">6-4, 7-6<sup>3</sup> </td><td class=\"w16\"><img alt=\"victoire\" height=\"15\" src=\"https://www.tennisendirect.net/styles/images/ok.gif\" width=\"15\"/></td><td align=\"center\" class=\"w50\"><a href=\"https://www.tennisendirect.net/atp/match/jannik-sinner-VS-zhizhen-zhang/terra-wortmann-open-halle-2024/\" title=\"détail du match\">détail du match</a></td></tr><tr class=\"unpair\"><td align=\"center\" class=\"w50\">21.06.24</td><td align=\"center\" class=\"w50\">Quart de finale</td><td class=\"w130\"><b>Jannik Sinner</b></td><td class=\"w130\"><a href=\"https://www.tennisendirect.net/atp/jan-lennard-struff/\" title=\"\">Jan-Lennard Struff</a></td><td class=\"w130\">6-2, 6-7<sup>1</sup>, 7-6<sup>3</sup> </td><td class=\"w16\"><img alt=\"victoire\" height=\"15\" src=\"https://www.tennisendirect.net/styles/images/ok.gif\" width=\"15\"/></td><td align=\"center\" class=\"w50\"><a href=\"https://www.tennisendirect.net/atp/match/jannik-sinner-VS-jan-lennard-struff/terra-wortmann-open-halle-2024/\" title=\"détail du match\">détail du match</a></td></tr><tr class=\"pair\"><td align=\"center\" class=\"w50\">20.06.24</td><td align=\"center\" class=\"w50\">2e tour</td><td class=\"w130\"><b>Jannik Sinner</b></td><td class=\"w130\"><a href=\"https://www.tennisendirect.net/atp/fabian-marozsan/\" title=\"\">Fabian Marozsan</a></td><td class=\"w130\">6-4, 6-7<sup>4</sup>, 6-3  </td><td class=\"w16\"><img alt=\"victoire\" height=\"15\" src=\"https://www.tennisendirect.net/styles/images/ok.gif\" width=\"15\"/></td><td align=\"center\" class=\"w50\"><a href=\"https://www.tennisendirect.net/atp/match/jannik-sinner-VS-fabian-marozsan/terra-wortmann-open-halle-2024/\" title=\"détail du match\">détail du match</a></td></tr><tr class=\"unpair\"><td align=\"center\" class=\"w50\">18.06.24</td><td align=\"center\" class=\"w50\">1er tour</td><td class=\"w130\"><b>Jannik Sinner</b></td><td class=\"w130\"><a href=\"https://www.tennisendirect.net/atp/tallon-griekspoor/\" title=\"\">Tallon Griekspoor</a></td><td class=\"w130\">6-7<sup>8</sup>, 6-3, 6-2  </td><td class=\"w16\"><img alt=\"victoire\" height=\"15\" src=\"https://www.tennisendirect.net/styles/images/ok.gif\" width=\"15\"/></td><td align=\"center\" class=\"w50\"><a href=\"https://www.tennisendirect.net/atp/match/jannik-sinner-VS-tallon-griekspoor/terra-wortmann-open-halle-2024/\" title=\"détail du match\">détail du match</a></td></tr><tr class=\"tour_head pair\"><td align=\"center\" class=\"w50\">07.06.24</td><td align=\"center\" class=\"w50\">Demi-finale</td><td class=\"w130\"><a href=\"https://www.tennisendirect.net/atp/carlos-alcaraz-garfia/\" title=\"\">Carlos Alcaraz</a></td><td class=\"w130\"><b>Jannik Sinner</b></td><td class=\"w130\">2-6, 6-3, 3-6, 6-4, 6-3  </td><td class=\"w16\"><img alt=\"défaite\" height=\"15\" src=\"https://www.tennisendirect.net/styles/images/ko.gif\" width=\"15\"/></td><td align=\"center\" class=\"w50\"><a href=\"https://www.tennisendirect.net/atp/match/carlos-alcaraz-garfia-VS-jannik-sinner/french-open-paris-2024/\" title=\"détail du match\">détail du match</a></td><td class=\"w200\" rowspan=\"6\"><img alt=\"France\" height=\"16\" src=\"https://www.tennisendirect.net/flags/flag_france.png\" width=\"16\"/> <a href=\"https://www.tennisendirect.net/hommes/french-open-paris-2024/\" title=\"French Open - Paris / $24.9M\">Paris </a></td><td class=\"w40 surf_2\" rowspan=\"6\">terre battue</td></tr><tr class=\"unpair\"><td align=\"center\" class=\"w50\">04.06.24</td><td align=\"center\" class=\"w50\">Quart de finale</td><td class=\"w130\"><b>Jannik Sinner</b></td><td class=\"w130\"><a href=\"https://www.tennisendirect.net/atp/grigor-dimitrov/\" title=\"\">Grigor Dimitrov</a></td><td class=\"w130\">6-2, 6-4, 7-6<sup>3</sup> </td><td class=\"w16\"><img alt=\"victoire\" height=\"15\" src=\"https://www.tennisendirect.net/styles/images/ok.gif\" width=\"15\"/></td><td align=\"center\" class=\"w50\"><a href=\"https://www.tennisendirect.net/atp/match/jannik-sinner-VS-grigor-dimitrov/french-open-paris-2024/\" title=\"détail du match\">détail du match</a></td></tr><tr class=\"pair\"><td align=\"center\" class=\"w50\">02.06.24</td><td align=\"center\" class=\"w50\">4e tour</td><td class=\"w130\"><b>Jannik Sinner</b></td><td class=\"w130\"><a href=\"https://www.tennisendirect.net/atp/corentin-moutet/\" title=\"\">Corentin Moutet</a></td><td class=\"w130\">2-6, 6-3, 6-2, 6-1  </td><td class=\"w16\"><img alt=\"victoire\" height=\"15\" src=\"https://www.tennisendirect.net/styles/images/ok.gif\" width=\"15\"/></td><td align=\"center\" class=\"w50\"><a href=\"https://www.tennisendirect.net/atp/match/jannik-sinner-VS-corentin-moutet/french-open-paris-2024/\" title=\"détail du match\">détail du match</a></td></tr><tr class=\"unpair\"><td align=\"center\" class=\"w50\">31.05.24</td><td align=\"center\" class=\"w50\">3e tour</td><td class=\"w130\"><b>Jannik Sinner</b></td><td class=\"w130\"><a href=\"https://www.tennisendirect.net/atp/pavel-kotov/\" title=\"\">Pavel Kotov</a></td><td class=\"w130\">6-4, 6-4, 6-4  </td><td class=\"w16\"><img alt=\"victoire\" height=\"15\" src=\"https://www.tennisendirect.net/styles/images/ok.gif\" width=\"15\"/></td><td align=\"center\" class=\"w50\"><a href=\"https://www.tennisendirect.net/atp/match/jannik-sinner-VS-pavel-kotov/french-open-paris-2024/\" title=\"détail du match\">détail du match</a></td></tr><tr class=\"pair\"><td align=\"center\" class=\"w50\">29.05.24</td><td align=\"center\" class=\"w50\">2e tour</td><td class=\"w130\"><b>Jannik Sinner</b></td><td class=\"w130\"><a href=\"https://www.tennisendirect.net/atp/richard-gasquet/\" title=\"\">Richard Gasquet</a></td><td class=\"w130\">6-4, 6-2, 6-4  </td><td class=\"w16\"><img alt=\"victoire\" height=\"15\" src=\"https://www.tennisendirect.net/styles/images/ok.gif\" width=\"15\"/></td><td align=\"center\" class=\"w50\"><a href=\"https://www.tennisendirect.net/atp/match/jannik-sinner-VS-richard-gasquet/french-open-paris-2024/\" title=\"détail du match\">détail du match</a></td></tr><tr class=\"unpair\"><td align=\"center\" class=\"w50\">27.05.24</td><td align=\"center\" class=\"w50\">1er tour</td><td class=\"w130\"><b>Jannik Sinner</b></td><td class=\"w130\"><a href=\"https://www.tennisendirect.net/atp/christopher-eubanks/\" title=\"\">Christopher Eubanks</a></td><td class=\"w130\">6-3, 6-3, 6-4  </td><td class=\"w16\"><img alt=\"victoire\" height=\"15\" src=\"https://www.tennisendirect.net/styles/images/ok.gif\" width=\"15\"/></td><td align=\"center\" class=\"w50\"><a href=\"https://www.tennisendirect.net/atp/match/jannik-sinner-VS-christopher-eubanks/french-open-paris-2024/\" title=\"détail du match\">détail du match</a></td></tr> </table>\n"
     ]
    }
   ],
   "source": [
    "print(\"\"\"profil: {profil} \\n stats: {statistiques} \\n matchs: {derniers_match}\"\"\".format(\n",
    "    profil=profil, statistiques=statistiques, derniers_match=derniers_match))"
   ]
  },
  {
   "cell_type": "code",
   "execution_count": 133,
   "metadata": {},
   "outputs": [],
   "source": [
    "@dataclass\n",
    "class Profil:\n",
    "    nom: str\n",
    "    pays: str\n",
    "    date_naissance: str\n",
    "    age: str\n",
    "    classement_atp: str\n",
    "    points: str\n",
    "    primes: str\n",
    "    total_match: str\n",
    "    victoires: str\n",
    "    taux_reussite: str"
   ]
  },
  {
   "cell_type": "code",
   "execution_count": 134,
   "metadata": {},
   "outputs": [],
   "source": [
    "@dataclass\n",
    "class Statistiques:\n",
    "    annee: str\n",
    "    sommaire: str\n",
    "    dure: str\n",
    "    terre_battue: str\n",
    "    salle: str\n",
    "    carpet: str\n",
    "    gazon: str\n",
    "    acryl: str"
   ]
  },
  {
   "cell_type": "code",
   "execution_count": 158,
   "metadata": {},
   "outputs": [],
   "source": [
    "@dataclass\n",
    "class Matchs:\n",
    "    date: str\n",
    "    stage: str\n",
    "    nom_joueur: str\n",
    "    nom_opposant: str\n",
    "    score: str\n",
    "    resultat: str\n",
    "    lien_detail_match: str\n",
    "    tournoi: str\n",
    "    type_terrain :str"
   ]
  },
  {
   "cell_type": "markdown",
   "metadata": {},
   "source": [
    "## Profil "
   ]
  },
  {
   "cell_type": "code",
   "execution_count": 136,
   "metadata": {},
   "outputs": [
    {
     "name": "stdout",
     "output_type": "stream",
     "text": [
      "[<div class=\"player_stats\">\n",
      "            Nom: <b><a href=\"https://www.tennisendirect.net/atp/jannik-sinner/\" title=\"Jannik Sinner\">Jannik Sinner</a></b><br/>            Pays: <b>Italy</b><br/>            Date de naissance: <b>16.08.01, 23 ans</b><br/> <a href=\"https://www.tennisendirect.net/atp/classement/\" title=\"Position dans le classement\">Classement ATP</a>: <b>1</b><br/>            TOP position dans le classement: <b>1</b> (02.12.24, 11830 points)<br/>            Points: <b>11830</b><br/>            Primes: <b>17043434 $</b><br/>            Total de matchs: <b>491</b><br/>            Victoires: <b>356</b><br/>            Taux de réussite: <b>72.51 %</b><br/>\n",
      "</div>]\n"
     ]
    }
   ],
   "source": [
    "print(profil)"
   ]
  },
  {
   "cell_type": "code",
   "execution_count": 137,
   "metadata": {},
   "outputs": [],
   "source": [
    "def genere_profil(profil):\n",
    "    \"\"\"\n",
    "    Génère un profil de joueur de tennis à partir des informations HTML fournies.\n",
    "\n",
    "    Args:\n",
    "        profil (list): Une liste d'éléments HTML, où le premier élément contient les informations du joueur.\n",
    "\n",
    "    Returns:\n",
    "        Profil: Un objet contenant les informations du joueur, telles que le nom, le pays, \n",
    "        la date de naissance, l'âge, le classement ATP, les points, les primes, le total de matchs, \n",
    "        les victoires, et le taux de réussite.\n",
    "\n",
    "    Remarque:\n",
    "        En cas d'erreur d'extraction (par exemple, si les balises ne sont pas présentes ou sont mal formées),\n",
    "        des valeurs par défaut (\"NA\") sont utilisées pour les champs.\n",
    "    \"\"\"\n",
    "    div = profil[0]\n",
    "\n",
    "    try:\n",
    "        nom_joueur = div.find(\"a\").text.strip()\n",
    "        pays = div.find_all(\"b\")[1].text.strip()\n",
    "        date_naissance = div.find_all(\"b\")[2].text.strip().split(\", \")[0]\n",
    "        age = div.find_all(\"b\")[2].text.strip().split(\", \")[1]\n",
    "        classement_atp = div.find_all(\"b\")[3].text.strip()\n",
    "        points = div.find_all(\"b\")[5].text.strip()\n",
    "        primes = div.find_all(\"b\")[6].text.strip()\n",
    "        total_match = div.find_all(\"b\")[7].text.strip()\n",
    "        victoires = div.find_all(\"b\")[8].text.strip()\n",
    "        taux_reussite = div.find_all(\"b\")[9].text.strip()\n",
    "    \n",
    "    except (IndexError, AttributeError):\n",
    "        nom_joueur, pays, date_naissance, age, classement_atp, points, primes, total_match, victoires, taux_reussite =(\n",
    "            \"NA\",\n",
    "            \"NA\",\n",
    "            \"NA\",\n",
    "            \"NA\",\n",
    "            \"NA\",\n",
    "            \"NA\",\n",
    "            \"NA\",\n",
    "            \"NA\",\n",
    "            \"NA\",\n",
    "            \"NA\",\n",
    "        )\n",
    "        \n",
    "    return Profil(\n",
    "        nom=nom_joueur,\n",
    "        pays=pays,\n",
    "        date_naissance=date_naissance,\n",
    "        age=age,\n",
    "        classement_atp=classement_atp,\n",
    "        points=points,\n",
    "        primes=primes,\n",
    "        total_match=total_match,\n",
    "        victoires=victoires,\n",
    "        taux_reussite=taux_reussite,\n",
    "    )  \n"
   ]
  },
  {
   "cell_type": "code",
   "execution_count": 138,
   "metadata": {},
   "outputs": [
    {
     "data": {
      "text/plain": [
       "Profil(nom='Jannik Sinner', pays='Italy', date_naissance='16.08.01', age='23 ans', classement_atp='1', points='11830', primes='17043434 $', total_match='491', victoires='356', taux_reussite='72.51 %')"
      ]
     },
     "execution_count": 138,
     "metadata": {},
     "output_type": "execute_result"
    }
   ],
   "source": [
    "Sinner_profil = genere_profil(profil)\n",
    "Sinner_profil"
   ]
  },
  {
   "cell_type": "markdown",
   "metadata": {},
   "source": [
    "## Statistiques"
   ]
  },
  {
   "cell_type": "code",
   "execution_count": 139,
   "metadata": {},
   "outputs": [],
   "source": [
    "def extraire_lignes(table):\n",
    "    \"\"\"\n",
    "    Extrait les lignes d'une table HTML ayant des classes spécifiques.\n",
    "\n",
    "    Args:\n",
    "        table (BeautifulSoup): Objet représentant une table HTML.\n",
    "\n",
    "    Returns:\n",
    "        list: Liste des éléments `<tr>` avec les classes \"pair\" ou \"unpair\".\n",
    "    \"\"\"\n",
    "    return table.find_all(\n",
    "        \"tr\", class_=lambda class_name: class_name in [\"pair\", \"unpair\"]\n",
    "    )"
   ]
  },
  {
   "cell_type": "code",
   "execution_count": 140,
   "metadata": {},
   "outputs": [],
   "source": [
    "def genere_statistiques(ligne):\n",
    "    \"\"\"\n",
    "    Génère des statistiques annuelles d'un joueur à partir d'une ligne HTML.\n",
    "\n",
    "    Args:\n",
    "        ligne (BeautifulSoup): Élément HTML représentant une ligne `<tr>` contenant les statistiques.\n",
    "\n",
    "    Returns:\n",
    "        Statistiques: Objet contenant les statistiques suivantes :\n",
    "            - annee (str): Année des statistiques.\n",
    "            - sommaire (str): Résumé des performances.\n",
    "            - dure (str): Performances sur surface dure.\n",
    "            - terre_battue (str): Performances sur terre battue.\n",
    "            - salle (str): Performances en salle.\n",
    "            - carpet (str): Performances sur moquette.\n",
    "            - gazon (str): Performances sur gazon.\n",
    "            - acryl (str): Performances sur acrylique.\n",
    "\n",
    "    Raises:\n",
    "        None: Retourne `None` si le format de la ligne est inattendu.\n",
    "    \"\"\"\n",
    "\n",
    "    colonnes = [td.text.strip() for td in ligne.find_all(\"td\")]\n",
    "    \n",
    "    if len(colonnes) == 8:\n",
    "        annee, sommaire, dure, terre_battue, salle, carpet, gazon, acryl = colonnes\n",
    "    else:\n",
    "        print(\"Format inattendu dans la ligne:\", colonnes)\n",
    "        return None\n",
    "\n",
    "    return Statistiques(\n",
    "        annee = annee,\n",
    "        sommaire = sommaire,\n",
    "        dure = dure,\n",
    "        terre_battue = terre_battue,\n",
    "        salle = salle,\n",
    "        carpet = carpet,\n",
    "        gazon = gazon,\n",
    "        acryl = acryl,\n",
    "    ) "
   ]
  },
  {
   "cell_type": "code",
   "execution_count": 141,
   "metadata": {},
   "outputs": [
    {
     "data": {
      "text/plain": [
       "[Statistiques(annee='2024', sommaire='74/7', dure='41/3', terre_battue='11/3', salle='13/0', carpet='0/0', gazon='9/1', acryl='0/0'),\n",
       " Statistiques(annee='2023', sommaire='66/18', dure='29/7', terre_battue='8/4', salle='21/4', carpet='0/0', gazon='8/3', acryl='0/0'),\n",
       " Statistiques(annee='2022', sommaire='47/17', dure='21/7', terre_battue='15/4', salle='7/4', carpet='0/0', gazon='4/2', acryl='0/0'),\n",
       " Statistiques(annee='2021', sommaire='50/24', dure='23/10', terre_battue='10/6', salle='17/6', carpet='0/0', gazon='0/2', acryl='0/0'),\n",
       " Statistiques(annee='2020', sommaire='24/16', dure='2/6', terre_battue='10/5', salle='12/5', carpet='0/0', gazon='0/0', acryl='0/0'),\n",
       " Statistiques(annee='2019', sommaire='62/24', dure='12/6', terre_battue='17/8', salle='31/7', carpet='0/0', gazon='2/3', acryl='0/0'),\n",
       " Statistiques(annee='2018', sommaire='31/23', dure='13/9', terre_battue='17/12', salle='1/1', carpet='0/1', gazon='0/0', acryl='0/0'),\n",
       " Statistiques(annee='2017', sommaire='1/2', dure='0/0', terre_battue='1/2', salle='0/0', carpet='0/0', gazon='0/0', acryl='0/0'),\n",
       " Statistiques(annee='2016', sommaire='1/2', dure='0/0', terre_battue='1/2', salle='0/0', carpet='0/0', gazon='0/0', acryl='0/0'),\n",
       " Statistiques(annee='2015', sommaire='0/2', dure='0/0', terre_battue='0/2', salle='0/0', carpet='0/0', gazon='0/0', acryl='0/0')]"
      ]
     },
     "execution_count": 141,
     "metadata": {},
     "output_type": "execute_result"
    }
   ],
   "source": [
    "lignes_stats = extraire_lignes(statistiques[0])\n",
    "Sinner_statistiques = [genere_statistiques(ligne) for ligne in lignes_stats if genere_statistiques(ligne)]\n",
    "Sinner_statistiques"
   ]
  },
  {
   "cell_type": "markdown",
   "metadata": {},
   "source": [
    "## Matchs"
   ]
  },
  {
   "cell_type": "code",
   "execution_count": 159,
   "metadata": {},
   "outputs": [],
   "source": [
    "def filtre_tour_head(ligne) -> Tuple[Matchs, str, str]:\n",
    "    \"\"\"\n",
    "    Filtre les informations d'une ligne HTML pour extraire les données d'un match et des détails du tournoi.\n",
    "\n",
    "    Args:\n",
    "        ligne (BeautifulSoup): Élément HTML représentant une ligne `<tr>` contenant les informations du match.\n",
    "\n",
    "    Returns:\n",
    "        Tuple[Matchs, str, str]: \n",
    "            - Un objet `Matchs` avec les détails du match (date, stage, vainqueur, perdant, score, etc.).\n",
    "            - Le nom du tournoi (str).\n",
    "            - Le type de terrain (str).\n",
    "    \"\"\"\n",
    "\n",
    "    (\n",
    "        date, stage, _, _, score, _, _, _, type_terrain\n",
    "    ) = [td.text.strip() for td in ligne.find_all(\"td\")]\n",
    "\n",
    "    try:\n",
    "        nom_joueur = ligne.find_all(\"b\")[0].text.strip()\n",
    "        nom_opposant = ligne.find_all(\"a\")[0].text.strip()\n",
    "        resultat = ligne.find_all(\"img\")[0][\"alt\"]\n",
    "        lien_detail_match = ligne.find_all(\"a\")[1][\"href\"]\n",
    "        tournoi = ligne.find_all(\"a\")[2][\"title\"]\n",
    "    \n",
    "    except (IndexError, AttributeError):\n",
    "        nom_joueur, nom_opposant, resultat, lien_detail_match, tournoi =(\n",
    "            \"NA\",\n",
    "            \"NA\",\n",
    "            \"NA\",\n",
    "            \"NA\",\n",
    "            \"NA\",\n",
    "        )\n",
    "        \n",
    "    return Matchs(\n",
    "        date=date,\n",
    "        stage=stage,\n",
    "        nom_joueur=nom_joueur,\n",
    "        nom_opposant=nom_opposant,\n",
    "        score=score,\n",
    "        resultat=resultat,\n",
    "        lien_detail_match=lien_detail_match,\n",
    "        tournoi=tournoi,\n",
    "        type_terrain=type_terrain,\n",
    "    ), tournoi, type_terrain"
   ]
  },
  {
   "cell_type": "code",
   "execution_count": 160,
   "metadata": {},
   "outputs": [],
   "source": [
    "def filtre_no_tour_head(ligne) -> tuple:\n",
    "    \"\"\"\n",
    "    Extrait les informations d'une ligne HTML pour un match sans détails sur le tournoi.\n",
    "\n",
    "    Args:\n",
    "        ligne (BeautifulSoup): Élément HTML représentant une ligne `<tr>` contenant les informations du match.\n",
    "\n",
    "    Returns:\n",
    "        tuple: Une tuple contenant :\n",
    "            - date (str): Date du match.\n",
    "            - stage (str): Phase du tournoi (par exemple, finale, demi-finale).\n",
    "            - nom_vainqueur (str): Nom du joueur vainqueur.\n",
    "            - nom_opposant (str): Nom du joueur perdant.\n",
    "            - score (str): Score du match.\n",
    "            - resultat (str): Résultat du match (par exemple, \"victoire\" ou \"défaite\").\n",
    "            - lien_detail_match (str): Lien vers les détails du match.\n",
    "    \"\"\"\n",
    "    \n",
    "    (\n",
    "        date, stage, _, _, score, _, _\n",
    "    ) = [td.text.strip() for td in ligne.find_all(\"td\")]\n",
    "\n",
    "    try:\n",
    "        nom_joueur = ligne.find_all(\"b\")[0].text.strip()\n",
    "        nom_opposant = ligne.find_all(\"a\")[0].text.strip()\n",
    "        resultat = ligne.find_all(\"img\")[0][\"alt\"]\n",
    "        lien_detail_match = ligne.find_all(\"a\")[1][\"href\"]\n",
    "        \n",
    "    except (IndexError, AttributeError):\n",
    "        nom_joueur, nom_opposant, resultat, lien_detail_match =(\n",
    "            \"NA\",\n",
    "            \"NA\",\n",
    "            \"NA\",\n",
    "            \"NA\",\n",
    "        )\n",
    "        \n",
    "    return date, stage, nom_joueur, nom_opposant, score, resultat, lien_detail_match"
   ]
  },
  {
   "cell_type": "code",
   "execution_count": 161,
   "metadata": {},
   "outputs": [],
   "source": [
    "def genere_derniers_matchs(ligne_derniers_matchs):\n",
    "    \"\"\"\n",
    "    Génère une liste des derniers matchs à partir des lignes HTML d'une table.\n",
    "\n",
    "    Args:\n",
    "        ligne_derniers_matchs (list): Liste d'éléments HTML représentant les lignes `<tr>` d'une table de matchs.\n",
    "\n",
    "    Returns:\n",
    "        list: Une liste d'objets `Matchs`, chacun représentant un match avec les informations suivantes :\n",
    "            - date (str): Date du match.\n",
    "            - stage (str): Phase du tournoi (par exemple, finale, demi-finale).\n",
    "            - nom_joueur (str): Nom du joueur vainqueur.\n",
    "            - nom_perdant (str): Nom du joueur perdant.\n",
    "            - score (str): Score du match.\n",
    "            - resultat (str): Résultat du match (par exemple, victoire, défaite).\n",
    "            - lien_detail_match (str): Lien vers les détails du match.\n",
    "            - tournoi (str): Nom du tournoi associé au match.\n",
    "            - type_terrain (str): Type de terrain sur lequel le match a été joué.\n",
    "    \"\"\"\n",
    "\n",
    "    tournoi_precedent = \"\"\n",
    "    type_terrain_precedent = \"\"\n",
    "    \n",
    "    matchs = []\n",
    "    for ligne in ligne_derniers_matchs:\n",
    "        if \"tour_head\" in ligne[\"class\"]:\n",
    "            match, tournoi_precedent, type_terrain_precedent = filtre_tour_head(ligne)\n",
    "            matchs.append(match)\n",
    "            \n",
    "        elif \"pair\" in ligne[\"class\"] or \"unpair\" in ligne[\"class\"]:\n",
    "            date, stage, nom_joueur, nom_opposant, score, resultat, lien_detail_match = filtre_no_tour_head(ligne)\n",
    "\n",
    "            tournoi = tournoi_precedent\n",
    "            type_terrain = type_terrain_precedent\n",
    "\n",
    "            match = Matchs(\n",
    "                date=date,\n",
    "                stage=stage,\n",
    "                nom_joueur=nom_joueur,\n",
    "                nom_opposant=nom_opposant,\n",
    "                score=score,\n",
    "                resultat=resultat,\n",
    "                lien_detail_match=lien_detail_match,\n",
    "                tournoi=tournoi,\n",
    "                type_terrain=type_terrain\n",
    "            )\n",
    "            matchs.append(match)\n",
    "            \n",
    "    return matchs"
   ]
  },
  {
   "cell_type": "code",
   "execution_count": 162,
   "metadata": {},
   "outputs": [
    {
     "data": {
      "text/plain": [
       "[Matchs(date='24.11.24', stage='', nom_joueur='Jannik Sinner', nom_opposant='Tallon Griekspoor', score='7-62, 6-2', resultat='victoire', lien_detail_match='https://www.tennisendirect.net/atp/match/jannik-sinner-VS-tallon-griekspoor/davis-cup-world-group-f-ita-ned-2024/', tournoi='Davis Cup, World Group, F, ITA-NED 2-0 / ', type_terrain='salle'),\n",
       " Matchs(date='23.11.24', stage='', nom_joueur='Jannik Sinner', nom_opposant='Alex De Minaur', score='6-3, 6-4', resultat='victoire', lien_detail_match='https://www.tennisendirect.net/atp/match/jannik-sinner-VS-alex-de-minaur/davis-cup-world-group-sf-ita-aus-2024/', tournoi='Davis Cup, World Group, SF, ITA-AUS 2-0 / ', type_terrain='salle'),\n",
       " Matchs(date='21.11.24', stage='', nom_joueur='Jannik Sinner', nom_opposant='Sebastian Baez', score='6-2, 6-1', resultat='victoire', lien_detail_match='https://www.tennisendirect.net/atp/match/jannik-sinner-VS-sebastian-baez/davis-cup-world-group-qf-ita-arg-2024/', tournoi='Davis Cup, World Group, QF, ITA-ARG 2-1 / ', type_terrain='salle'),\n",
       " Matchs(date='17.11.24', stage='Finale', nom_joueur='Jannik Sinner', nom_opposant='Taylor Harry Fritz', score='6-4, 6-4', resultat='victoire', lien_detail_match='https://www.tennisendirect.net/atp/match/jannik-sinner-VS-taylor-harry-fritz/nitto-atp-finals-turin-2024/', tournoi='Nitto ATP Finals - Turin / ', type_terrain='salle'),\n",
       " Matchs(date='16.11.24', stage='Demi-finale', nom_joueur='Jannik Sinner', nom_opposant='Casper Ruud', score='6-1, 6-2', resultat='victoire', lien_detail_match='https://www.tennisendirect.net/atp/match/jannik-sinner-VS-casper-ruud/nitto-atp-finals-turin-2024/', tournoi='Nitto ATP Finals - Turin / ', type_terrain='salle'),\n",
       " Matchs(date='14.11.24', stage='', nom_joueur='Jannik Sinner', nom_opposant='Daniil Medvedev', score='6-3, 6-4', resultat='victoire', lien_detail_match='https://www.tennisendirect.net/atp/match/jannik-sinner-VS-daniil-medvedev/nitto-atp-finals-turin-2024/', tournoi='Nitto ATP Finals - Turin / ', type_terrain='salle'),\n",
       " Matchs(date='12.11.24', stage='', nom_joueur='Jannik Sinner', nom_opposant='Taylor Harry Fritz', score='6-4, 6-4', resultat='victoire', lien_detail_match='https://www.tennisendirect.net/atp/match/jannik-sinner-VS-taylor-harry-fritz/nitto-atp-finals-turin-2024/', tournoi='Nitto ATP Finals - Turin / ', type_terrain='salle'),\n",
       " Matchs(date='10.11.24', stage='', nom_joueur='Jannik Sinner', nom_opposant='Alex De Minaur', score='6-3, 6-4', resultat='victoire', lien_detail_match='https://www.tennisendirect.net/atp/match/jannik-sinner-VS-alex-de-minaur/nitto-atp-finals-turin-2024/', tournoi='Nitto ATP Finals - Turin / ', type_terrain='salle'),\n",
       " Matchs(date='13.10.24', stage='Finale', nom_joueur='Jannik Sinner', nom_opposant='Novak Djokovic', score='7-64, 6-3', resultat='victoire', lien_detail_match='https://www.tennisendirect.net/atp/match/jannik-sinner-VS-novak-djokovic/shanghai-rolex-masters-shanghai-2024/', tournoi='Shanghai Rolex Masters - Shanghai / $10.2M', type_terrain='dure'),\n",
       " Matchs(date='12.10.24', stage='Demi-finale', nom_joueur='Jannik Sinner', nom_opposant='Tomas Machac', score='6-4, 7-5', resultat='victoire', lien_detail_match='https://www.tennisendirect.net/atp/match/jannik-sinner-VS-tomas-machac/shanghai-rolex-masters-shanghai-2024/', tournoi='Shanghai Rolex Masters - Shanghai / $10.2M', type_terrain='dure'),\n",
       " Matchs(date='10.10.24', stage='Quart de finale', nom_joueur='Jannik Sinner', nom_opposant='Daniil Medvedev', score='6-1, 6-4', resultat='victoire', lien_detail_match='https://www.tennisendirect.net/atp/match/jannik-sinner-VS-daniil-medvedev/shanghai-rolex-masters-shanghai-2024/', tournoi='Shanghai Rolex Masters - Shanghai / $10.2M', type_terrain='dure'),\n",
       " Matchs(date='09.10.24', stage='4e tour', nom_joueur='Jannik Sinner', nom_opposant='Ben Shelton', score='6-4, 7-61', resultat='victoire', lien_detail_match='https://www.tennisendirect.net/atp/match/jannik-sinner-VS-ben-shelton/shanghai-rolex-masters-shanghai-2024/', tournoi='Shanghai Rolex Masters - Shanghai / $10.2M', type_terrain='dure'),\n",
       " Matchs(date='06.10.24', stage='3e tour', nom_joueur='Jannik Sinner', nom_opposant='Tomas Martin Etcheverry', score='6-73, 6-4, 6-2', resultat='victoire', lien_detail_match='https://www.tennisendirect.net/atp/match/jannik-sinner-VS-tomas-martin-etcheverry/shanghai-rolex-masters-shanghai-2024/', tournoi='Shanghai Rolex Masters - Shanghai / $10.2M', type_terrain='dure'),\n",
       " Matchs(date='05.10.24', stage='2e tour', nom_joueur='Jannik Sinner', nom_opposant='Taro Daniel', score='6-1, 6-4', resultat='victoire', lien_detail_match='https://www.tennisendirect.net/atp/match/jannik-sinner-VS-taro-taro/shanghai-rolex-masters-shanghai-2024/', tournoi='Shanghai Rolex Masters - Shanghai / $10.2M', type_terrain='dure'),\n",
       " Matchs(date='02.10.24', stage='Finale', nom_joueur='Jannik Sinner', nom_opposant='Carlos Alcaraz', score='6-76, 6-4, 7-63', resultat='défaite', lien_detail_match='https://www.tennisendirect.net/atp/match/carlos-alcaraz-garfia-VS-jannik-sinner/china-open-beijing-2024/', tournoi='China Open - Beijing / $3.891M', type_terrain='dure'),\n",
       " Matchs(date='01.10.24', stage='Demi-finale', nom_joueur='Jannik Sinner', nom_opposant='Bu Yunchaokete', score='6-3, 7-63', resultat='victoire', lien_detail_match='https://www.tennisendirect.net/atp/match/jannik-sinner-VS-bu-yunchaokete/china-open-beijing-2024/', tournoi='China Open - Beijing / $3.891M', type_terrain='dure'),\n",
       " Matchs(date='30.09.24', stage='Quart de finale', nom_joueur='Jannik Sinner', nom_opposant='Jiri Lehecka', score='6-2, 7-66', resultat='victoire', lien_detail_match='https://www.tennisendirect.net/atp/match/jannik-sinner-VS-jiri-lehecka/china-open-beijing-2024/', tournoi='China Open - Beijing / $3.891M', type_terrain='dure'),\n",
       " Matchs(date='28.09.24', stage='2e tour', nom_joueur='Jannik Sinner', nom_opposant='Roman Safiullin', score='3-6, 6-2, 6-3', resultat='victoire', lien_detail_match='https://www.tennisendirect.net/atp/match/jannik-sinner-VS-roman-safiullin/china-open-beijing-2024/', tournoi='China Open - Beijing / $3.891M', type_terrain='dure'),\n",
       " Matchs(date='26.09.24', stage='1er tour', nom_joueur='Jannik Sinner', nom_opposant='Nicolas Jarry', score='4-6, 6-3, 6-1', resultat='victoire', lien_detail_match='https://www.tennisendirect.net/atp/match/jannik-sinner-VS-nicolas-jarry/china-open-beijing-2024/', tournoi='China Open - Beijing / $3.891M', type_terrain='dure'),\n",
       " Matchs(date='08.09.24', stage='Finale', nom_joueur='Jannik Sinner', nom_opposant='Taylor Harry Fritz', score='6-3, 6-4, 7-5', resultat='victoire', lien_detail_match='https://www.tennisendirect.net/atp/match/jannik-sinner-VS-taylor-harry-fritz/us-open-new-york-2024/', tournoi='U.S. Open - New York / $33.9M', type_terrain='dure'),\n",
       " Matchs(date='06.09.24', stage='Demi-finale', nom_joueur='Jannik Sinner', nom_opposant='Jack Draper', score='7-5, 7-63, 6-2', resultat='victoire', lien_detail_match='https://www.tennisendirect.net/atp/match/jannik-sinner-VS-jack-draper/us-open-new-york-2024/', tournoi='U.S. Open - New York / $33.9M', type_terrain='dure'),\n",
       " Matchs(date='04.09.24', stage='Quart de finale', nom_joueur='Jannik Sinner', nom_opposant='Daniil Medvedev', score='6-2, 1-6, 6-1, 6-4', resultat='victoire', lien_detail_match='https://www.tennisendirect.net/atp/match/jannik-sinner-VS-daniil-medvedev/us-open-new-york-2024/', tournoi='U.S. Open - New York / $33.9M', type_terrain='dure'),\n",
       " Matchs(date='02.09.24', stage='4e tour', nom_joueur='Jannik Sinner', nom_opposant='Tommy Paul', score='7-63, 7-65, 6-1', resultat='victoire', lien_detail_match='https://www.tennisendirect.net/atp/match/jannik-sinner-VS-tommy-paul/us-open-new-york-2024/', tournoi='U.S. Open - New York / $33.9M', type_terrain='dure'),\n",
       " Matchs(date='31.08.24', stage='3e tour', nom_joueur='Jannik Sinner', nom_opposant=\"Christopher O'Connell\", score='6-1, 6-4, 6-2', resultat='victoire', lien_detail_match='https://www.tennisendirect.net/atp/match/jannik-sinner-VS-christopher-oconnell/us-open-new-york-2024/', tournoi='U.S. Open - New York / $33.9M', type_terrain='dure'),\n",
       " Matchs(date='29.08.24', stage='2e tour', nom_joueur='Jannik Sinner', nom_opposant='Alex Michelsen', score='6-4, 6-0, 6-2', resultat='victoire', lien_detail_match='https://www.tennisendirect.net/atp/match/jannik-sinner-VS-alex-michelsen/us-open-new-york-2024/', tournoi='U.S. Open - New York / $33.9M', type_terrain='dure'),\n",
       " Matchs(date='27.08.24', stage='1er tour', nom_joueur='Jannik Sinner', nom_opposant='Mackenzie Mcdonald', score='2-6, 6-2, 6-1, 6-2', resultat='victoire', lien_detail_match='https://www.tennisendirect.net/atp/match/jannik-sinner-VS-mackenzie-mcdonald/us-open-new-york-2024/', tournoi='U.S. Open - New York / $33.9M', type_terrain='dure'),\n",
       " Matchs(date='19.08.24', stage='Finale', nom_joueur='Jannik Sinner', nom_opposant='Frances Tiafoe', score='7-64, 6-2', resultat='victoire', lien_detail_match='https://www.tennisendirect.net/atp/match/jannik-sinner-VS-francis-tiafoe/western-southern-open-cincinnati-2024/', tournoi='Western & Southern Open - Cincinnati / $7.9M', type_terrain='dure'),\n",
       " Matchs(date='18.08.24', stage='Demi-finale', nom_joueur='Jannik Sinner', nom_opposant='Alexander Zverev', score='7-69, 5-7, 7-64', resultat='victoire', lien_detail_match='https://www.tennisendirect.net/atp/match/jannik-sinner-VS-alexander-zverev/western-southern-open-cincinnati-2024/', tournoi='Western & Southern Open - Cincinnati / $7.9M', type_terrain='dure'),\n",
       " Matchs(date='17.08.24', stage='Quart de finale', nom_joueur='Jannik Sinner', nom_opposant='Andrey Rublev', score='4-6, 7-5, 6-4', resultat='victoire', lien_detail_match='https://www.tennisendirect.net/atp/match/jannik-sinner-VS-andrey-rublev/western-southern-open-cincinnati-2024/', tournoi='Western & Southern Open - Cincinnati / $7.9M', type_terrain='dure'),\n",
       " Matchs(date='16.08.24', stage='3e tour', nom_joueur='Jannik Sinner', nom_opposant='Jordan Thompson', score='Jordan Thompson - il (elle/ils) n’a (ont) pas participé', resultat='victoire', lien_detail_match='https://www.tennisendirect.net/atp/match/jannik-sinner-VS-jordan-thompson/western-southern-open-cincinnati-2024/', tournoi='Western & Southern Open - Cincinnati / $7.9M', type_terrain='dure'),\n",
       " Matchs(date='14.08.24', stage='2e tour', nom_joueur='Jannik Sinner', nom_opposant='Alex Michelsen', score='6-4, 7-5', resultat='victoire', lien_detail_match='https://www.tennisendirect.net/atp/match/jannik-sinner-VS-alex-michelsen/western-southern-open-cincinnati-2024/', tournoi='Western & Southern Open - Cincinnati / $7.9M', type_terrain='dure'),\n",
       " Matchs(date='10.08.24', stage='3e tour', nom_joueur='Jannik Sinner', nom_opposant='Alejandro Tabilo', score='6-4, 6-3', resultat='victoire', lien_detail_match='https://www.tennisendirect.net/atp/match/jannik-sinner-VS-alejandro-tabilo/national-bank-open-montreal-2024/', tournoi='National Bank Open - Montreal / $8.1M', type_terrain='dure'),\n",
       " Matchs(date='10.08.24', stage='Quart de finale', nom_joueur='Jannik Sinner', nom_opposant='Andrey Rublev', score='6-3, 1-6, 6-2', resultat='défaite', lien_detail_match='https://www.tennisendirect.net/atp/match/andrey-rublev-VS-jannik-sinner/national-bank-open-montreal-2024/', tournoi='National Bank Open - Montreal / $8.1M', type_terrain='dure'),\n",
       " Matchs(date='08.08.24', stage='2e tour', nom_joueur='Jannik Sinner', nom_opposant='Borna Coric', score='6-2, 6-4', resultat='victoire', lien_detail_match='https://www.tennisendirect.net/atp/match/jannik-sinner-VS-borna-coric/national-bank-open-montreal-2024/', tournoi='National Bank Open - Montreal / $8.1M', type_terrain='dure'),\n",
       " Matchs(date='09.07.24', stage='Quart de finale', nom_joueur='Jannik Sinner', nom_opposant='Daniil Medvedev', score='6-77, 6-4, 7-64, 2-6, 6-3', resultat='défaite', lien_detail_match='https://www.tennisendirect.net/atp/match/daniil-medvedev-VS-jannik-sinner/wimbledon-london-2024/', tournoi='Wimbledon - London / L50M', type_terrain='gazon'),\n",
       " Matchs(date='07.07.24', stage='4e tour', nom_joueur='Jannik Sinner', nom_opposant='Ben Shelton', score='6-2, 6-4, 7-69', resultat='victoire', lien_detail_match='https://www.tennisendirect.net/atp/match/jannik-sinner-VS-ben-shelton/wimbledon-london-2024/', tournoi='Wimbledon - London / L50M', type_terrain='gazon'),\n",
       " Matchs(date='05.07.24', stage='3e tour', nom_joueur='Jannik Sinner', nom_opposant='Miomir Kecmanovic', score='6-1, 6-4, 6-2', resultat='victoire', lien_detail_match='https://www.tennisendirect.net/atp/match/jannik-sinner-VS-miomir-kecmanovic/wimbledon-london-2024/', tournoi='Wimbledon - London / L50M', type_terrain='gazon'),\n",
       " Matchs(date='03.07.24', stage='2e tour', nom_joueur='Jannik Sinner', nom_opposant='Matteo Berrettini', score='7-63, 7-64, 2-6, 7-64', resultat='victoire', lien_detail_match='https://www.tennisendirect.net/atp/match/jannik-sinner-VS-matteo-berrettini/wimbledon-london-2024/', tournoi='Wimbledon - London / L50M', type_terrain='gazon'),\n",
       " Matchs(date='01.07.24', stage='1er tour', nom_joueur='Jannik Sinner', nom_opposant='Yannick Hanfmann', score='6-3, 6-4, 3-6, 6-3', resultat='victoire', lien_detail_match='https://www.tennisendirect.net/atp/match/jannik-sinner-VS-yannick-hanfmann/wimbledon-london-2024/', tournoi='Wimbledon - London / L50M', type_terrain='gazon'),\n",
       " Matchs(date='23.06.24', stage='Finale', nom_joueur='Jannik Sinner', nom_opposant='Hubert Hurkacz', score='7-68, 7-62', resultat='victoire', lien_detail_match='https://www.tennisendirect.net/atp/match/jannik-sinner-VS-hubert-hurkacz/terra-wortmann-open-halle-2024/', tournoi='Terra Wortmann Open - Halle / $2.411M', type_terrain='gazon'),\n",
       " Matchs(date='22.06.24', stage='Demi-finale', nom_joueur='Jannik Sinner', nom_opposant='Zhizhen Zhang', score='6-4, 7-63', resultat='victoire', lien_detail_match='https://www.tennisendirect.net/atp/match/jannik-sinner-VS-zhizhen-zhang/terra-wortmann-open-halle-2024/', tournoi='Terra Wortmann Open - Halle / $2.411M', type_terrain='gazon'),\n",
       " Matchs(date='21.06.24', stage='Quart de finale', nom_joueur='Jannik Sinner', nom_opposant='Jan-Lennard Struff', score='6-2, 6-71, 7-63', resultat='victoire', lien_detail_match='https://www.tennisendirect.net/atp/match/jannik-sinner-VS-jan-lennard-struff/terra-wortmann-open-halle-2024/', tournoi='Terra Wortmann Open - Halle / $2.411M', type_terrain='gazon'),\n",
       " Matchs(date='20.06.24', stage='2e tour', nom_joueur='Jannik Sinner', nom_opposant='Fabian Marozsan', score='6-4, 6-74, 6-3', resultat='victoire', lien_detail_match='https://www.tennisendirect.net/atp/match/jannik-sinner-VS-fabian-marozsan/terra-wortmann-open-halle-2024/', tournoi='Terra Wortmann Open - Halle / $2.411M', type_terrain='gazon'),\n",
       " Matchs(date='18.06.24', stage='1er tour', nom_joueur='Jannik Sinner', nom_opposant='Tallon Griekspoor', score='6-78, 6-3, 6-2', resultat='victoire', lien_detail_match='https://www.tennisendirect.net/atp/match/jannik-sinner-VS-tallon-griekspoor/terra-wortmann-open-halle-2024/', tournoi='Terra Wortmann Open - Halle / $2.411M', type_terrain='gazon'),\n",
       " Matchs(date='07.06.24', stage='Demi-finale', nom_joueur='Jannik Sinner', nom_opposant='Carlos Alcaraz', score='2-6, 6-3, 3-6, 6-4, 6-3', resultat='défaite', lien_detail_match='https://www.tennisendirect.net/atp/match/carlos-alcaraz-garfia-VS-jannik-sinner/french-open-paris-2024/', tournoi='French Open - Paris / $24.9M', type_terrain='terre battue'),\n",
       " Matchs(date='04.06.24', stage='Quart de finale', nom_joueur='Jannik Sinner', nom_opposant='Grigor Dimitrov', score='6-2, 6-4, 7-63', resultat='victoire', lien_detail_match='https://www.tennisendirect.net/atp/match/jannik-sinner-VS-grigor-dimitrov/french-open-paris-2024/', tournoi='French Open - Paris / $24.9M', type_terrain='terre battue'),\n",
       " Matchs(date='02.06.24', stage='4e tour', nom_joueur='Jannik Sinner', nom_opposant='Corentin Moutet', score='2-6, 6-3, 6-2, 6-1', resultat='victoire', lien_detail_match='https://www.tennisendirect.net/atp/match/jannik-sinner-VS-corentin-moutet/french-open-paris-2024/', tournoi='French Open - Paris / $24.9M', type_terrain='terre battue'),\n",
       " Matchs(date='31.05.24', stage='3e tour', nom_joueur='Jannik Sinner', nom_opposant='Pavel Kotov', score='6-4, 6-4, 6-4', resultat='victoire', lien_detail_match='https://www.tennisendirect.net/atp/match/jannik-sinner-VS-pavel-kotov/french-open-paris-2024/', tournoi='French Open - Paris / $24.9M', type_terrain='terre battue'),\n",
       " Matchs(date='29.05.24', stage='2e tour', nom_joueur='Jannik Sinner', nom_opposant='Richard Gasquet', score='6-4, 6-2, 6-4', resultat='victoire', lien_detail_match='https://www.tennisendirect.net/atp/match/jannik-sinner-VS-richard-gasquet/french-open-paris-2024/', tournoi='French Open - Paris / $24.9M', type_terrain='terre battue'),\n",
       " Matchs(date='27.05.24', stage='1er tour', nom_joueur='Jannik Sinner', nom_opposant='Christopher Eubanks', score='6-3, 6-3, 6-4', resultat='victoire', lien_detail_match='https://www.tennisendirect.net/atp/match/jannik-sinner-VS-christopher-eubanks/french-open-paris-2024/', tournoi='French Open - Paris / $24.9M', type_terrain='terre battue')]"
      ]
     },
     "execution_count": 162,
     "metadata": {},
     "output_type": "execute_result"
    }
   ],
   "source": [
    "ligne_derniers_matchs = extraire_lignes(derniers_match)\n",
    "Sinner_derniers_matchs = genere_derniers_matchs(ligne_derniers_matchs)\n",
    "Sinner_derniers_matchs"
   ]
  },
  {
   "cell_type": "markdown",
   "metadata": {},
   "source": [
    "## RESULTAT"
   ]
  },
  {
   "cell_type": "code",
   "execution_count": 146,
   "metadata": {},
   "outputs": [
    {
     "data": {
      "text/plain": [
       "Profil(nom='Jannik Sinner', pays='Italy', date_naissance='16.08.01', age='23 ans', classement_atp='1', points='11830', primes='17043434 $', total_match='491', victoires='356', taux_reussite='72.51 %')"
      ]
     },
     "execution_count": 146,
     "metadata": {},
     "output_type": "execute_result"
    }
   ],
   "source": [
    "Sinner_profil"
   ]
  },
  {
   "cell_type": "code",
   "execution_count": 147,
   "metadata": {},
   "outputs": [
    {
     "data": {
      "text/plain": [
       "[Statistiques(annee='2024', sommaire='74/7', dure='41/3', terre_battue='11/3', salle='13/0', carpet='0/0', gazon='9/1', acryl='0/0'),\n",
       " Statistiques(annee='2023', sommaire='66/18', dure='29/7', terre_battue='8/4', salle='21/4', carpet='0/0', gazon='8/3', acryl='0/0'),\n",
       " Statistiques(annee='2022', sommaire='47/17', dure='21/7', terre_battue='15/4', salle='7/4', carpet='0/0', gazon='4/2', acryl='0/0'),\n",
       " Statistiques(annee='2021', sommaire='50/24', dure='23/10', terre_battue='10/6', salle='17/6', carpet='0/0', gazon='0/2', acryl='0/0'),\n",
       " Statistiques(annee='2020', sommaire='24/16', dure='2/6', terre_battue='10/5', salle='12/5', carpet='0/0', gazon='0/0', acryl='0/0'),\n",
       " Statistiques(annee='2019', sommaire='62/24', dure='12/6', terre_battue='17/8', salle='31/7', carpet='0/0', gazon='2/3', acryl='0/0'),\n",
       " Statistiques(annee='2018', sommaire='31/23', dure='13/9', terre_battue='17/12', salle='1/1', carpet='0/1', gazon='0/0', acryl='0/0'),\n",
       " Statistiques(annee='2017', sommaire='1/2', dure='0/0', terre_battue='1/2', salle='0/0', carpet='0/0', gazon='0/0', acryl='0/0'),\n",
       " Statistiques(annee='2016', sommaire='1/2', dure='0/0', terre_battue='1/2', salle='0/0', carpet='0/0', gazon='0/0', acryl='0/0'),\n",
       " Statistiques(annee='2015', sommaire='0/2', dure='0/0', terre_battue='0/2', salle='0/0', carpet='0/0', gazon='0/0', acryl='0/0')]"
      ]
     },
     "execution_count": 147,
     "metadata": {},
     "output_type": "execute_result"
    }
   ],
   "source": [
    "Sinner_statistiques"
   ]
  },
  {
   "cell_type": "code",
   "execution_count": 148,
   "metadata": {},
   "outputs": [
    {
     "data": {
      "text/plain": [
       "[Matchs(date='24.11.24', stage='', nom_vainqueur='Jannik Sinner', nom_opposant='Tallon Griekspoor', score='7-62, 6-2', resultat='victoire', lien_detail='https://www.tennisendirect.net/atp/match/jannik-sinner-VS-tallon-griekspoor/davis-cup-world-group-f-ita-ned-2024/', tournoi='Davis Cup, World Group, F, ITA-NED 2-0 / ', type_terrain='salle'),\n",
       " Matchs(date='23.11.24', stage='', nom_vainqueur='Jannik Sinner', nom_opposant='Alex De Minaur', score='6-3, 6-4', resultat='victoire', lien_detail='https://www.tennisendirect.net/atp/match/jannik-sinner-VS-alex-de-minaur/davis-cup-world-group-sf-ita-aus-2024/', tournoi='Davis Cup, World Group, SF, ITA-AUS 2-0 / ', type_terrain='salle'),\n",
       " Matchs(date='21.11.24', stage='', nom_vainqueur='Jannik Sinner', nom_opposant='Sebastian Baez', score='6-2, 6-1', resultat='victoire', lien_detail='https://www.tennisendirect.net/atp/match/jannik-sinner-VS-sebastian-baez/davis-cup-world-group-qf-ita-arg-2024/', tournoi='Davis Cup, World Group, QF, ITA-ARG 2-1 / ', type_terrain='salle'),\n",
       " Matchs(date='17.11.24', stage='Finale', nom_vainqueur='Jannik Sinner', nom_opposant='Taylor Harry Fritz', score='6-4, 6-4', resultat='victoire', lien_detail='https://www.tennisendirect.net/atp/match/jannik-sinner-VS-taylor-harry-fritz/nitto-atp-finals-turin-2024/', tournoi='Nitto ATP Finals - Turin / ', type_terrain='salle'),\n",
       " Matchs(date='16.11.24', stage='Demi-finale', nom_vainqueur='Jannik Sinner', nom_opposant='Casper Ruud', score='6-1, 6-2', resultat='victoire', lien_detail='https://www.tennisendirect.net/atp/match/jannik-sinner-VS-casper-ruud/nitto-atp-finals-turin-2024/', tournoi='Nitto ATP Finals - Turin / ', type_terrain='salle'),\n",
       " Matchs(date='14.11.24', stage='', nom_vainqueur='Jannik Sinner', nom_opposant='Daniil Medvedev', score='6-3, 6-4', resultat='victoire', lien_detail='https://www.tennisendirect.net/atp/match/jannik-sinner-VS-daniil-medvedev/nitto-atp-finals-turin-2024/', tournoi='Nitto ATP Finals - Turin / ', type_terrain='salle'),\n",
       " Matchs(date='12.11.24', stage='', nom_vainqueur='Jannik Sinner', nom_opposant='Taylor Harry Fritz', score='6-4, 6-4', resultat='victoire', lien_detail='https://www.tennisendirect.net/atp/match/jannik-sinner-VS-taylor-harry-fritz/nitto-atp-finals-turin-2024/', tournoi='Nitto ATP Finals - Turin / ', type_terrain='salle'),\n",
       " Matchs(date='10.11.24', stage='', nom_vainqueur='Jannik Sinner', nom_opposant='Alex De Minaur', score='6-3, 6-4', resultat='victoire', lien_detail='https://www.tennisendirect.net/atp/match/jannik-sinner-VS-alex-de-minaur/nitto-atp-finals-turin-2024/', tournoi='Nitto ATP Finals - Turin / ', type_terrain='salle'),\n",
       " Matchs(date='13.10.24', stage='Finale', nom_vainqueur='Jannik Sinner', nom_opposant='Novak Djokovic', score='7-64, 6-3', resultat='victoire', lien_detail='https://www.tennisendirect.net/atp/match/jannik-sinner-VS-novak-djokovic/shanghai-rolex-masters-shanghai-2024/', tournoi='Shanghai Rolex Masters - Shanghai / $10.2M', type_terrain='dure'),\n",
       " Matchs(date='12.10.24', stage='Demi-finale', nom_vainqueur='Jannik Sinner', nom_opposant='Tomas Machac', score='6-4, 7-5', resultat='victoire', lien_detail='https://www.tennisendirect.net/atp/match/jannik-sinner-VS-tomas-machac/shanghai-rolex-masters-shanghai-2024/', tournoi='Shanghai Rolex Masters - Shanghai / $10.2M', type_terrain='dure'),\n",
       " Matchs(date='10.10.24', stage='Quart de finale', nom_vainqueur='Jannik Sinner', nom_opposant='Daniil Medvedev', score='6-1, 6-4', resultat='victoire', lien_detail='https://www.tennisendirect.net/atp/match/jannik-sinner-VS-daniil-medvedev/shanghai-rolex-masters-shanghai-2024/', tournoi='Shanghai Rolex Masters - Shanghai / $10.2M', type_terrain='dure'),\n",
       " Matchs(date='09.10.24', stage='4e tour', nom_vainqueur='Jannik Sinner', nom_opposant='Ben Shelton', score='6-4, 7-61', resultat='victoire', lien_detail='https://www.tennisendirect.net/atp/match/jannik-sinner-VS-ben-shelton/shanghai-rolex-masters-shanghai-2024/', tournoi='Shanghai Rolex Masters - Shanghai / $10.2M', type_terrain='dure'),\n",
       " Matchs(date='06.10.24', stage='3e tour', nom_vainqueur='Jannik Sinner', nom_opposant='Tomas Martin Etcheverry', score='6-73, 6-4, 6-2', resultat='victoire', lien_detail='https://www.tennisendirect.net/atp/match/jannik-sinner-VS-tomas-martin-etcheverry/shanghai-rolex-masters-shanghai-2024/', tournoi='Shanghai Rolex Masters - Shanghai / $10.2M', type_terrain='dure'),\n",
       " Matchs(date='05.10.24', stage='2e tour', nom_vainqueur='Jannik Sinner', nom_opposant='Taro Daniel', score='6-1, 6-4', resultat='victoire', lien_detail='https://www.tennisendirect.net/atp/match/jannik-sinner-VS-taro-taro/shanghai-rolex-masters-shanghai-2024/', tournoi='Shanghai Rolex Masters - Shanghai / $10.2M', type_terrain='dure'),\n",
       " Matchs(date='02.10.24', stage='Finale', nom_vainqueur='Jannik Sinner', nom_opposant='Carlos Alcaraz', score='6-76, 6-4, 7-63', resultat='défaite', lien_detail='https://www.tennisendirect.net/atp/match/carlos-alcaraz-garfia-VS-jannik-sinner/china-open-beijing-2024/', tournoi='China Open - Beijing / $3.891M', type_terrain='dure'),\n",
       " Matchs(date='01.10.24', stage='Demi-finale', nom_vainqueur='Jannik Sinner', nom_opposant='Bu Yunchaokete', score='6-3, 7-63', resultat='victoire', lien_detail='https://www.tennisendirect.net/atp/match/jannik-sinner-VS-bu-yunchaokete/china-open-beijing-2024/', tournoi='China Open - Beijing / $3.891M', type_terrain='dure'),\n",
       " Matchs(date='30.09.24', stage='Quart de finale', nom_vainqueur='Jannik Sinner', nom_opposant='Jiri Lehecka', score='6-2, 7-66', resultat='victoire', lien_detail='https://www.tennisendirect.net/atp/match/jannik-sinner-VS-jiri-lehecka/china-open-beijing-2024/', tournoi='China Open - Beijing / $3.891M', type_terrain='dure'),\n",
       " Matchs(date='28.09.24', stage='2e tour', nom_vainqueur='Jannik Sinner', nom_opposant='Roman Safiullin', score='3-6, 6-2, 6-3', resultat='victoire', lien_detail='https://www.tennisendirect.net/atp/match/jannik-sinner-VS-roman-safiullin/china-open-beijing-2024/', tournoi='China Open - Beijing / $3.891M', type_terrain='dure'),\n",
       " Matchs(date='26.09.24', stage='1er tour', nom_vainqueur='Jannik Sinner', nom_opposant='Nicolas Jarry', score='4-6, 6-3, 6-1', resultat='victoire', lien_detail='https://www.tennisendirect.net/atp/match/jannik-sinner-VS-nicolas-jarry/china-open-beijing-2024/', tournoi='China Open - Beijing / $3.891M', type_terrain='dure'),\n",
       " Matchs(date='08.09.24', stage='Finale', nom_vainqueur='Jannik Sinner', nom_opposant='Taylor Harry Fritz', score='6-3, 6-4, 7-5', resultat='victoire', lien_detail='https://www.tennisendirect.net/atp/match/jannik-sinner-VS-taylor-harry-fritz/us-open-new-york-2024/', tournoi='U.S. Open - New York / $33.9M', type_terrain='dure'),\n",
       " Matchs(date='06.09.24', stage='Demi-finale', nom_vainqueur='Jannik Sinner', nom_opposant='Jack Draper', score='7-5, 7-63, 6-2', resultat='victoire', lien_detail='https://www.tennisendirect.net/atp/match/jannik-sinner-VS-jack-draper/us-open-new-york-2024/', tournoi='U.S. Open - New York / $33.9M', type_terrain='dure'),\n",
       " Matchs(date='04.09.24', stage='Quart de finale', nom_vainqueur='Jannik Sinner', nom_opposant='Daniil Medvedev', score='6-2, 1-6, 6-1, 6-4', resultat='victoire', lien_detail='https://www.tennisendirect.net/atp/match/jannik-sinner-VS-daniil-medvedev/us-open-new-york-2024/', tournoi='U.S. Open - New York / $33.9M', type_terrain='dure'),\n",
       " Matchs(date='02.09.24', stage='4e tour', nom_vainqueur='Jannik Sinner', nom_opposant='Tommy Paul', score='7-63, 7-65, 6-1', resultat='victoire', lien_detail='https://www.tennisendirect.net/atp/match/jannik-sinner-VS-tommy-paul/us-open-new-york-2024/', tournoi='U.S. Open - New York / $33.9M', type_terrain='dure'),\n",
       " Matchs(date='31.08.24', stage='3e tour', nom_vainqueur='Jannik Sinner', nom_opposant=\"Christopher O'Connell\", score='6-1, 6-4, 6-2', resultat='victoire', lien_detail='https://www.tennisendirect.net/atp/match/jannik-sinner-VS-christopher-oconnell/us-open-new-york-2024/', tournoi='U.S. Open - New York / $33.9M', type_terrain='dure'),\n",
       " Matchs(date='29.08.24', stage='2e tour', nom_vainqueur='Jannik Sinner', nom_opposant='Alex Michelsen', score='6-4, 6-0, 6-2', resultat='victoire', lien_detail='https://www.tennisendirect.net/atp/match/jannik-sinner-VS-alex-michelsen/us-open-new-york-2024/', tournoi='U.S. Open - New York / $33.9M', type_terrain='dure'),\n",
       " Matchs(date='27.08.24', stage='1er tour', nom_vainqueur='Jannik Sinner', nom_opposant='Mackenzie Mcdonald', score='2-6, 6-2, 6-1, 6-2', resultat='victoire', lien_detail='https://www.tennisendirect.net/atp/match/jannik-sinner-VS-mackenzie-mcdonald/us-open-new-york-2024/', tournoi='U.S. Open - New York / $33.9M', type_terrain='dure'),\n",
       " Matchs(date='19.08.24', stage='Finale', nom_vainqueur='Jannik Sinner', nom_opposant='Frances Tiafoe', score='7-64, 6-2', resultat='victoire', lien_detail='https://www.tennisendirect.net/atp/match/jannik-sinner-VS-francis-tiafoe/western-southern-open-cincinnati-2024/', tournoi='Western & Southern Open - Cincinnati / $7.9M', type_terrain='dure'),\n",
       " Matchs(date='18.08.24', stage='Demi-finale', nom_vainqueur='Jannik Sinner', nom_opposant='Alexander Zverev', score='7-69, 5-7, 7-64', resultat='victoire', lien_detail='https://www.tennisendirect.net/atp/match/jannik-sinner-VS-alexander-zverev/western-southern-open-cincinnati-2024/', tournoi='Western & Southern Open - Cincinnati / $7.9M', type_terrain='dure'),\n",
       " Matchs(date='17.08.24', stage='Quart de finale', nom_vainqueur='Jannik Sinner', nom_opposant='Andrey Rublev', score='4-6, 7-5, 6-4', resultat='victoire', lien_detail='https://www.tennisendirect.net/atp/match/jannik-sinner-VS-andrey-rublev/western-southern-open-cincinnati-2024/', tournoi='Western & Southern Open - Cincinnati / $7.9M', type_terrain='dure'),\n",
       " Matchs(date='16.08.24', stage='3e tour', nom_vainqueur='Jannik Sinner', nom_opposant='Jordan Thompson', score='Jordan Thompson - il (elle/ils) n’a (ont) pas participé', resultat='victoire', lien_detail='https://www.tennisendirect.net/atp/match/jannik-sinner-VS-jordan-thompson/western-southern-open-cincinnati-2024/', tournoi='Western & Southern Open - Cincinnati / $7.9M', type_terrain='dure'),\n",
       " Matchs(date='14.08.24', stage='2e tour', nom_vainqueur='Jannik Sinner', nom_opposant='Alex Michelsen', score='6-4, 7-5', resultat='victoire', lien_detail='https://www.tennisendirect.net/atp/match/jannik-sinner-VS-alex-michelsen/western-southern-open-cincinnati-2024/', tournoi='Western & Southern Open - Cincinnati / $7.9M', type_terrain='dure'),\n",
       " Matchs(date='10.08.24', stage='3e tour', nom_vainqueur='Jannik Sinner', nom_opposant='Alejandro Tabilo', score='6-4, 6-3', resultat='victoire', lien_detail='https://www.tennisendirect.net/atp/match/jannik-sinner-VS-alejandro-tabilo/national-bank-open-montreal-2024/', tournoi='National Bank Open - Montreal / $8.1M', type_terrain='dure'),\n",
       " Matchs(date='10.08.24', stage='Quart de finale', nom_vainqueur='Jannik Sinner', nom_opposant='Andrey Rublev', score='6-3, 1-6, 6-2', resultat='défaite', lien_detail='https://www.tennisendirect.net/atp/match/andrey-rublev-VS-jannik-sinner/national-bank-open-montreal-2024/', tournoi='National Bank Open - Montreal / $8.1M', type_terrain='dure'),\n",
       " Matchs(date='08.08.24', stage='2e tour', nom_vainqueur='Jannik Sinner', nom_opposant='Borna Coric', score='6-2, 6-4', resultat='victoire', lien_detail='https://www.tennisendirect.net/atp/match/jannik-sinner-VS-borna-coric/national-bank-open-montreal-2024/', tournoi='National Bank Open - Montreal / $8.1M', type_terrain='dure'),\n",
       " Matchs(date='09.07.24', stage='Quart de finale', nom_vainqueur='Jannik Sinner', nom_opposant='Daniil Medvedev', score='6-77, 6-4, 7-64, 2-6, 6-3', resultat='défaite', lien_detail='https://www.tennisendirect.net/atp/match/daniil-medvedev-VS-jannik-sinner/wimbledon-london-2024/', tournoi='Wimbledon - London / L50M', type_terrain='gazon'),\n",
       " Matchs(date='07.07.24', stage='4e tour', nom_vainqueur='Jannik Sinner', nom_opposant='Ben Shelton', score='6-2, 6-4, 7-69', resultat='victoire', lien_detail='https://www.tennisendirect.net/atp/match/jannik-sinner-VS-ben-shelton/wimbledon-london-2024/', tournoi='Wimbledon - London / L50M', type_terrain='gazon'),\n",
       " Matchs(date='05.07.24', stage='3e tour', nom_vainqueur='Jannik Sinner', nom_opposant='Miomir Kecmanovic', score='6-1, 6-4, 6-2', resultat='victoire', lien_detail='https://www.tennisendirect.net/atp/match/jannik-sinner-VS-miomir-kecmanovic/wimbledon-london-2024/', tournoi='Wimbledon - London / L50M', type_terrain='gazon'),\n",
       " Matchs(date='03.07.24', stage='2e tour', nom_vainqueur='Jannik Sinner', nom_opposant='Matteo Berrettini', score='7-63, 7-64, 2-6, 7-64', resultat='victoire', lien_detail='https://www.tennisendirect.net/atp/match/jannik-sinner-VS-matteo-berrettini/wimbledon-london-2024/', tournoi='Wimbledon - London / L50M', type_terrain='gazon'),\n",
       " Matchs(date='01.07.24', stage='1er tour', nom_vainqueur='Jannik Sinner', nom_opposant='Yannick Hanfmann', score='6-3, 6-4, 3-6, 6-3', resultat='victoire', lien_detail='https://www.tennisendirect.net/atp/match/jannik-sinner-VS-yannick-hanfmann/wimbledon-london-2024/', tournoi='Wimbledon - London / L50M', type_terrain='gazon'),\n",
       " Matchs(date='23.06.24', stage='Finale', nom_vainqueur='Jannik Sinner', nom_opposant='Hubert Hurkacz', score='7-68, 7-62', resultat='victoire', lien_detail='https://www.tennisendirect.net/atp/match/jannik-sinner-VS-hubert-hurkacz/terra-wortmann-open-halle-2024/', tournoi='Terra Wortmann Open - Halle / $2.411M', type_terrain='gazon'),\n",
       " Matchs(date='22.06.24', stage='Demi-finale', nom_vainqueur='Jannik Sinner', nom_opposant='Zhizhen Zhang', score='6-4, 7-63', resultat='victoire', lien_detail='https://www.tennisendirect.net/atp/match/jannik-sinner-VS-zhizhen-zhang/terra-wortmann-open-halle-2024/', tournoi='Terra Wortmann Open - Halle / $2.411M', type_terrain='gazon'),\n",
       " Matchs(date='21.06.24', stage='Quart de finale', nom_vainqueur='Jannik Sinner', nom_opposant='Jan-Lennard Struff', score='6-2, 6-71, 7-63', resultat='victoire', lien_detail='https://www.tennisendirect.net/atp/match/jannik-sinner-VS-jan-lennard-struff/terra-wortmann-open-halle-2024/', tournoi='Terra Wortmann Open - Halle / $2.411M', type_terrain='gazon'),\n",
       " Matchs(date='20.06.24', stage='2e tour', nom_vainqueur='Jannik Sinner', nom_opposant='Fabian Marozsan', score='6-4, 6-74, 6-3', resultat='victoire', lien_detail='https://www.tennisendirect.net/atp/match/jannik-sinner-VS-fabian-marozsan/terra-wortmann-open-halle-2024/', tournoi='Terra Wortmann Open - Halle / $2.411M', type_terrain='gazon'),\n",
       " Matchs(date='18.06.24', stage='1er tour', nom_vainqueur='Jannik Sinner', nom_opposant='Tallon Griekspoor', score='6-78, 6-3, 6-2', resultat='victoire', lien_detail='https://www.tennisendirect.net/atp/match/jannik-sinner-VS-tallon-griekspoor/terra-wortmann-open-halle-2024/', tournoi='Terra Wortmann Open - Halle / $2.411M', type_terrain='gazon'),\n",
       " Matchs(date='07.06.24', stage='Demi-finale', nom_vainqueur='Jannik Sinner', nom_opposant='Carlos Alcaraz', score='2-6, 6-3, 3-6, 6-4, 6-3', resultat='défaite', lien_detail='https://www.tennisendirect.net/atp/match/carlos-alcaraz-garfia-VS-jannik-sinner/french-open-paris-2024/', tournoi='French Open - Paris / $24.9M', type_terrain='terre battue'),\n",
       " Matchs(date='04.06.24', stage='Quart de finale', nom_vainqueur='Jannik Sinner', nom_opposant='Grigor Dimitrov', score='6-2, 6-4, 7-63', resultat='victoire', lien_detail='https://www.tennisendirect.net/atp/match/jannik-sinner-VS-grigor-dimitrov/french-open-paris-2024/', tournoi='French Open - Paris / $24.9M', type_terrain='terre battue'),\n",
       " Matchs(date='02.06.24', stage='4e tour', nom_vainqueur='Jannik Sinner', nom_opposant='Corentin Moutet', score='2-6, 6-3, 6-2, 6-1', resultat='victoire', lien_detail='https://www.tennisendirect.net/atp/match/jannik-sinner-VS-corentin-moutet/french-open-paris-2024/', tournoi='French Open - Paris / $24.9M', type_terrain='terre battue'),\n",
       " Matchs(date='31.05.24', stage='3e tour', nom_vainqueur='Jannik Sinner', nom_opposant='Pavel Kotov', score='6-4, 6-4, 6-4', resultat='victoire', lien_detail='https://www.tennisendirect.net/atp/match/jannik-sinner-VS-pavel-kotov/french-open-paris-2024/', tournoi='French Open - Paris / $24.9M', type_terrain='terre battue'),\n",
       " Matchs(date='29.05.24', stage='2e tour', nom_vainqueur='Jannik Sinner', nom_opposant='Richard Gasquet', score='6-4, 6-2, 6-4', resultat='victoire', lien_detail='https://www.tennisendirect.net/atp/match/jannik-sinner-VS-richard-gasquet/french-open-paris-2024/', tournoi='French Open - Paris / $24.9M', type_terrain='terre battue'),\n",
       " Matchs(date='27.05.24', stage='1er tour', nom_vainqueur='Jannik Sinner', nom_opposant='Christopher Eubanks', score='6-3, 6-3, 6-4', resultat='victoire', lien_detail='https://www.tennisendirect.net/atp/match/jannik-sinner-VS-christopher-eubanks/french-open-paris-2024/', tournoi='French Open - Paris / $24.9M', type_terrain='terre battue')]"
      ]
     },
     "execution_count": 148,
     "metadata": {},
     "output_type": "execute_result"
    }
   ],
   "source": [
    "Sinner_derniers_matchs"
   ]
  },
  {
   "cell_type": "markdown",
   "metadata": {},
   "source": [
    "### Ecriture des résultats "
   ]
  },
  {
   "cell_type": "code",
   "execution_count": 99,
   "metadata": {},
   "outputs": [
    {
     "data": {
      "text/plain": [
       "{'nom': 'Jannik Sinner',\n",
       " 'pays': 'Italy',\n",
       " 'date_naissance': '16.08.01',\n",
       " 'age': '23 ans',\n",
       " 'classement_atp': '1',\n",
       " 'points': '11830',\n",
       " 'primes': '17043434 $',\n",
       " 'total_match': '491',\n",
       " 'victoires': '356',\n",
       " 'taux_reussite': '72.51 %'}"
      ]
     },
     "execution_count": 99,
     "metadata": {},
     "output_type": "execute_result"
    }
   ],
   "source": [
    "Sinner_profil.__dict__"
   ]
  },
  {
   "cell_type": "code",
   "execution_count": 100,
   "metadata": {},
   "outputs": [
    {
     "data": {
      "text/plain": [
       "[{'annee': '2024',\n",
       "  'sommaire': '74/7',\n",
       "  'dure': '41/3',\n",
       "  'terre_battue': '11/3',\n",
       "  'salle': '13/0',\n",
       "  'carpet': '0/0',\n",
       "  'gazon': '9/1',\n",
       "  'acryl': '0/0'},\n",
       " {'annee': '2023',\n",
       "  'sommaire': '66/18',\n",
       "  'dure': '29/7',\n",
       "  'terre_battue': '8/4',\n",
       "  'salle': '21/4',\n",
       "  'carpet': '0/0',\n",
       "  'gazon': '8/3',\n",
       "  'acryl': '0/0'},\n",
       " {'annee': '2022',\n",
       "  'sommaire': '47/17',\n",
       "  'dure': '21/7',\n",
       "  'terre_battue': '15/4',\n",
       "  'salle': '7/4',\n",
       "  'carpet': '0/0',\n",
       "  'gazon': '4/2',\n",
       "  'acryl': '0/0'},\n",
       " {'annee': '2021',\n",
       "  'sommaire': '50/24',\n",
       "  'dure': '23/10',\n",
       "  'terre_battue': '10/6',\n",
       "  'salle': '17/6',\n",
       "  'carpet': '0/0',\n",
       "  'gazon': '0/2',\n",
       "  'acryl': '0/0'},\n",
       " {'annee': '2020',\n",
       "  'sommaire': '24/16',\n",
       "  'dure': '2/6',\n",
       "  'terre_battue': '10/5',\n",
       "  'salle': '12/5',\n",
       "  'carpet': '0/0',\n",
       "  'gazon': '0/0',\n",
       "  'acryl': '0/0'},\n",
       " {'annee': '2019',\n",
       "  'sommaire': '62/24',\n",
       "  'dure': '12/6',\n",
       "  'terre_battue': '17/8',\n",
       "  'salle': '31/7',\n",
       "  'carpet': '0/0',\n",
       "  'gazon': '2/3',\n",
       "  'acryl': '0/0'},\n",
       " {'annee': '2018',\n",
       "  'sommaire': '31/23',\n",
       "  'dure': '13/9',\n",
       "  'terre_battue': '17/12',\n",
       "  'salle': '1/1',\n",
       "  'carpet': '0/1',\n",
       "  'gazon': '0/0',\n",
       "  'acryl': '0/0'},\n",
       " {'annee': '2017',\n",
       "  'sommaire': '1/2',\n",
       "  'dure': '0/0',\n",
       "  'terre_battue': '1/2',\n",
       "  'salle': '0/0',\n",
       "  'carpet': '0/0',\n",
       "  'gazon': '0/0',\n",
       "  'acryl': '0/0'},\n",
       " {'annee': '2016',\n",
       "  'sommaire': '1/2',\n",
       "  'dure': '0/0',\n",
       "  'terre_battue': '1/2',\n",
       "  'salle': '0/0',\n",
       "  'carpet': '0/0',\n",
       "  'gazon': '0/0',\n",
       "  'acryl': '0/0'},\n",
       " {'annee': '2015',\n",
       "  'sommaire': '0/2',\n",
       "  'dure': '0/0',\n",
       "  'terre_battue': '0/2',\n",
       "  'salle': '0/0',\n",
       "  'carpet': '0/0',\n",
       "  'gazon': '0/0',\n",
       "  'acryl': '0/0'}]"
      ]
     },
     "execution_count": 100,
     "metadata": {},
     "output_type": "execute_result"
    }
   ],
   "source": [
    "stats_test = [stats.__dict__ for stats in Sinner_statistiques]\n",
    "stats_test"
   ]
  },
  {
   "cell_type": "code",
   "execution_count": 101,
   "metadata": {},
   "outputs": [
    {
     "data": {
      "text/plain": [
       "'..'"
      ]
     },
     "execution_count": 101,
     "metadata": {},
     "output_type": "execute_result"
    }
   ],
   "source": [
    "os.pardir"
   ]
  },
  {
   "cell_type": "code",
   "execution_count": 102,
   "metadata": {},
   "outputs": [],
   "source": [
    "current_dir: str = os.getcwd()\n",
    "\n",
    "parent_dir: str = os.path.dirname(current_dir)"
   ]
  },
  {
   "cell_type": "code",
   "execution_count": 103,
   "metadata": {},
   "outputs": [],
   "source": [
    "file_path_profil: str = os.path.join(parent_dir, \"donnees\", \"profil_sinner.json\")\n",
    "with open(file_path_profil, \"w\") as fichier:\n",
    "    fichier.write(\n",
    "        json.dumps(\n",
    "            [Sinner_profil.__dict__], ensure_ascii=False, indent=4\n",
    "        )\n",
    "    )"
   ]
  },
  {
   "cell_type": "code",
   "execution_count": 104,
   "metadata": {},
   "outputs": [],
   "source": [
    "file_path_statistiques: str = os.path.join(parent_dir, \"donnees\", \"stats_sinner.json\")\n",
    "with open(file_path_statistiques, \"w\") as fichier:\n",
    "    fichier.write(\n",
    "        json.dumps(\n",
    "            [stats.__dict__ for stats in Sinner_statistiques], ensure_ascii=False, indent=4\n",
    "        )\n",
    "    )"
   ]
  },
  {
   "cell_type": "code",
   "execution_count": 105,
   "metadata": {},
   "outputs": [],
   "source": [
    "file_path_matchs: str = os.path.join(parent_dir, \"donnees\", \"matchs_sinner.json\")\n",
    "with open(file_path_matchs, \"w\") as fichier:\n",
    "    fichier.write(\n",
    "        json.dumps(\n",
    "            [match.__dict__ for match in Sinner_derniers_matchs], ensure_ascii=False, indent=4\n",
    "        )\n",
    "    )"
   ]
  },
  {
   "cell_type": "code",
   "execution_count": 163,
   "metadata": {},
   "outputs": [],
   "source": [
    "joueurs_data = {}\n",
    "\n",
    "joueurs_data[Sinner_profil.nom] = {\n",
    "    \"profil\": Sinner_profil.__dict__,\n",
    "    \"statistiques\": [stats.__dict__ for stats in Sinner_statistiques],\n",
    "    \"matchs\": [match.__dict__ for match in Sinner_derniers_matchs]\n",
    "}\n",
    "\n",
    "file_path_joueurs: str = os.path.join(parent_dir, \"donnees\", \"joueurs_complets.json\")\n",
    "\n",
    "if os.path.exists(file_path_joueurs):\n",
    "    with open(file_path_joueurs, \"r\") as fichier:\n",
    "        try:\n",
    "            joueurs_data.update(json.load(fichier))\n",
    "        except json.JSONDecodeError:\n",
    "            print(\"Fichier JSON corrompu ou vide. Il sera remplacé.\")\n",
    "\n",
    "with open(file_path_joueurs, \"w\", encoding= \"utf-8\") as fichier:\n",
    "    json.dump(joueurs_data, fichier, ensure_ascii=False, indent=4)\n"
   ]
  },
  {
   "cell_type": "markdown",
   "metadata": {},
   "source": [
    "# Récupération des stats de tous les joueurs"
   ]
  },
  {
   "cell_type": "code",
   "execution_count": 37,
   "metadata": {},
   "outputs": [],
   "source": [
    "def get_page_joueur(liste_lien_joueur):\n",
    "    for lien in liste_lien_joueur:\n",
    "        reponse = get(lien)\n",
    "        print(lien, reponse.status_code)\n",
    "        assert reponse.status_code == 200\n",
    "        time.sleep(2)"
   ]
  },
  {
   "cell_type": "code",
   "execution_count": 38,
   "metadata": {},
   "outputs": [
    {
     "name": "stdout",
     "output_type": "stream",
     "text": [
      "https://www.tennisendirect.net/atp/jannik-sinner/ 200\n"
     ]
    },
    {
     "ename": "KeyboardInterrupt",
     "evalue": "",
     "output_type": "error",
     "traceback": [
      "\u001b[1;31m---------------------------------------------------------------------------\u001b[0m",
      "\u001b[1;31mKeyboardInterrupt\u001b[0m                         Traceback (most recent call last)",
      "Cell \u001b[1;32mIn[38], line 1\u001b[0m\n\u001b[1;32m----> 1\u001b[0m \u001b[43mget_page_joueur\u001b[49m\u001b[43m(\u001b[49m\u001b[43mliens_joueurs\u001b[49m\u001b[43m)\u001b[49m\n",
      "Cell \u001b[1;32mIn[37], line 6\u001b[0m, in \u001b[0;36mget_page_joueur\u001b[1;34m(liste_lien_joueur)\u001b[0m\n\u001b[0;32m      4\u001b[0m \u001b[38;5;28mprint\u001b[39m(lien, reponse\u001b[38;5;241m.\u001b[39mstatus_code)\n\u001b[0;32m      5\u001b[0m \u001b[38;5;28;01massert\u001b[39;00m reponse\u001b[38;5;241m.\u001b[39mstatus_code \u001b[38;5;241m==\u001b[39m \u001b[38;5;241m200\u001b[39m\n\u001b[1;32m----> 6\u001b[0m \u001b[43mtime\u001b[49m\u001b[38;5;241;43m.\u001b[39;49m\u001b[43msleep\u001b[49m\u001b[43m(\u001b[49m\u001b[38;5;241;43m2\u001b[39;49m\u001b[43m)\u001b[49m\n",
      "\u001b[1;31mKeyboardInterrupt\u001b[0m: "
     ]
    }
   ],
   "source": [
    "get_page_joueur(liens_joueurs)"
   ]
  }
 ],
 "metadata": {
  "kernelspec": {
   "display_name": ".venv",
   "language": "python",
   "name": "python3"
  },
  "language_info": {
   "codemirror_mode": {
    "name": "ipython",
    "version": 3
   },
   "file_extension": ".py",
   "mimetype": "text/x-python",
   "name": "python",
   "nbconvert_exporter": "python",
   "pygments_lexer": "ipython3",
   "version": "3.13.0"
  }
 },
 "nbformat": 4,
 "nbformat_minor": 2
}
